{
 "cells": [
  {
   "cell_type": "code",
   "execution_count": 2,
   "metadata": {},
   "outputs": [],
   "source": [
    "import numpy as np\n",
    "import pandas as pd\n",
    "from scipy.stats import shapiro\n",
    "from scipy.stats import ttest_ind\n",
    "from scipy.stats import mannwhitneyu"
   ]
  },
  {
   "cell_type": "markdown",
   "metadata": {},
   "source": [
    "Итак, нас инересует то, влияет ли модель на следующие показатели:\n",
    "- средний чек\n",
    "- объём продаж в натуральном выражении\n",
    "- количество накопленных баллов\n",
    "- количество потраченных баллов"
   ]
  },
  {
   "cell_type": "markdown",
   "metadata": {},
   "source": [
    "У нас уже есть модель на основе метода А. При этом в результате прототипирования метод B показал лучшие по сравнению с А \n",
    "офлайн-метрики. Необходимо проверить, является ли решение B на те показатели, которые обозначили выше."
   ]
  },
  {
   "cell_type": "markdown",
   "metadata": {},
   "source": [
    "У нас 2 гипотезы:\n",
    "- \"нулевая\" (H0) - наблюдаемые различия незначимы\n",
    "- \"альтернативная\" (H1) - различия значимы"
   ]
  }
 ],
 "metadata": {
  "kernelspec": {
   "display_name": "Python 3",
   "language": "python",
   "name": "python3"
  },
  "language_info": {
   "codemirror_mode": {
    "name": "ipython",
    "version": 3
   },
   "file_extension": ".py",
   "mimetype": "text/x-python",
   "name": "python",
   "nbconvert_exporter": "python",
   "pygments_lexer": "ipython3",
   "version": "3.7.4"
  }
 },
 "nbformat": 4,
 "nbformat_minor": 2
}
