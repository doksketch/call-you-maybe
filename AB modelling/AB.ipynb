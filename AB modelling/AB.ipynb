{
 "cells": [
  {
   "cell_type": "code",
   "execution_count": 116,
   "metadata": {},
   "outputs": [],
   "source": [
    "import numpy as np\n",
    "import pandas as pd\n",
    "import matplotlib.pyplot as plt\n",
    "import seaborn as sns\n",
    "from scipy.stats import kstest\n",
    "from scipy.stats import mannwhitneyu"
   ]
  },
  {
   "cell_type": "code",
   "execution_count": 117,
   "metadata": {},
   "outputs": [],
   "source": [
    "import warnings\n",
    "warnings.filterwarnings('ignore')"
   ]
  },
  {
   "cell_type": "markdown",
   "metadata": {},
   "source": [
    "Итак, нас инересует то, влияет ли модель на следующие показатели:\n",
    "- объём продаж в натуральном выражении\n",
    "- количество потраченных баллов\n",
    "- количество транзакций"
   ]
  },
  {
   "cell_type": "markdown",
   "metadata": {},
   "source": [
    "У нас уже есть модель на основе метода А. При этом в результате прототипирования метод B показал лучшие по сравнению с А \n",
    "офлайн-метрики. Необходимо проверить, влияет ли решение B на те показатели, которые обозначили выше. Нам важно не ошибиться\n",
    "и не сказать в итоге, что различия значимы."
   ]
  },
  {
   "cell_type": "markdown",
   "metadata": {},
   "source": [
    "У нас 2 гипотезы:\n",
    "- \"нулевая\" (H0) - наблюдаемые различия незначимы\n",
    "- \"альтернативная\" (H1) - различия значимы"
   ]
  },
  {
   "cell_type": "markdown",
   "metadata": {},
   "source": [
    "Тест Колмогорова-Смирнова"
   ]
  },
  {
   "cell_type": "code",
   "execution_count": 66,
   "metadata": {},
   "outputs": [],
   "source": [
    "def test(data, x):\n",
    "    ks, p = kstest(data[x], 'norm')\n",
    "    return p"
   ]
  },
  {
   "cell_type": "markdown",
   "metadata": {},
   "source": [
    "Множественное сравнение."
   ]
  },
  {
   "cell_type": "code",
   "execution_count": 118,
   "metadata": {},
   "outputs": [],
   "source": [
    "def multiple_comparisons(data, features, test):\n",
    "    p_values = []\n",
    "    group_a = data[data['ab_group'] == 'A']\n",
    "    group_b = data[data['ab_group'] == 'B']\n",
    "    \n",
    "    for i in data[features]:\n",
    "        _, p = test(group_a[i], group_b[i])\n",
    "        p_values.append(p)\n",
    "    \n",
    "    return p_values"
   ]
  },
  {
   "cell_type": "markdown",
   "metadata": {},
   "source": [
    "График p-значений."
   ]
  },
  {
   "cell_type": "code",
   "execution_count": 102,
   "metadata": {},
   "outputs": [],
   "source": [
    "def plot_p_values(p_values, threshold, bins):\n",
    "    sns.set(font_scale=1.2)\n",
    "    plt.figure(figsize=(7, 3))\n",
    "    sns.distplot([p_values], kde=False, bins=bins)\n",
    "    plt.axvline(x=threshold, color='r', linestyle='--')\n",
    "    \n",
    "    plt.xlim([0, 1])\n",
    "    plt.xlabel('$\\it{p}$ value')\n",
    "    plt.ylabel('Count')\n",
    "    plt.tight_layout()"
   ]
  },
  {
   "cell_type": "markdown",
   "metadata": {},
   "source": [
    "Поправка Холма-Бонферонни."
   ]
  },
  {
   "cell_type": "code",
   "execution_count": 120,
   "metadata": {},
   "outputs": [],
   "source": [
    "def holm_bonferonni_correction(data, p_values, threshold):\n",
    "    counter = 0\n",
    "    step = 0\n",
    "    \n",
    "    for p in p_values:\n",
    "        value = p/((data.shape[1]-1) - step)\n",
    "        step += 1\n",
    "\n",
    "        if not value < threshold:\n",
    "            break\n",
    "        else:\n",
    "            counter += 1\n",
    "    \n",
    "    return (counter/len(p_values))*100"
   ]
  },
  {
   "cell_type": "markdown",
   "metadata": {},
   "source": [
    "Приступим к работе."
   ]
  },
  {
   "cell_type": "code",
   "execution_count": 2,
   "metadata": {},
   "outputs": [],
   "source": [
    "path = 'E:/retailhero-uplift/data'"
   ]
  },
  {
   "cell_type": "code",
   "execution_count": 37,
   "metadata": {},
   "outputs": [
    {
     "data": {
      "text/html": [
       "<div>\n",
       "<style scoped>\n",
       "    .dataframe tbody tr th:only-of-type {\n",
       "        vertical-align: middle;\n",
       "    }\n",
       "\n",
       "    .dataframe tbody tr th {\n",
       "        vertical-align: top;\n",
       "    }\n",
       "\n",
       "    .dataframe thead th {\n",
       "        text-align: right;\n",
       "    }\n",
       "</style>\n",
       "<table border=\"1\" class=\"dataframe\">\n",
       "  <thead>\n",
       "    <tr style=\"text-align: right;\">\n",
       "      <th></th>\n",
       "      <th>total_trans_count</th>\n",
       "      <th>product_quantity_sum_all</th>\n",
       "      <th>regular_points_spent_sum_all</th>\n",
       "      <th>ab_group</th>\n",
       "    </tr>\n",
       "    <tr>\n",
       "      <th>client_id</th>\n",
       "      <th></th>\n",
       "      <th></th>\n",
       "      <th></th>\n",
       "      <th></th>\n",
       "    </tr>\n",
       "  </thead>\n",
       "  <tbody>\n",
       "    <tr>\n",
       "      <td>000012768d</td>\n",
       "      <td>4</td>\n",
       "      <td>3</td>\n",
       "      <td>0.0</td>\n",
       "      <td>B</td>\n",
       "    </tr>\n",
       "    <tr>\n",
       "      <td>000036f903</td>\n",
       "      <td>32</td>\n",
       "      <td>5</td>\n",
       "      <td>0.0</td>\n",
       "      <td>B</td>\n",
       "    </tr>\n",
       "    <tr>\n",
       "      <td>00010925a5</td>\n",
       "      <td>18</td>\n",
       "      <td>2</td>\n",
       "      <td>-17.0</td>\n",
       "      <td>A</td>\n",
       "    </tr>\n",
       "    <tr>\n",
       "      <td>0001f552b0</td>\n",
       "      <td>15</td>\n",
       "      <td>4</td>\n",
       "      <td>0.0</td>\n",
       "      <td>B</td>\n",
       "    </tr>\n",
       "    <tr>\n",
       "      <td>00020e7b18</td>\n",
       "      <td>18</td>\n",
       "      <td>4</td>\n",
       "      <td>-592.0</td>\n",
       "      <td>A</td>\n",
       "    </tr>\n",
       "  </tbody>\n",
       "</table>\n",
       "</div>"
      ],
      "text/plain": [
       "            total_trans_count  product_quantity_sum_all  \\\n",
       "client_id                                                 \n",
       "000012768d                  4                         3   \n",
       "000036f903                 32                         5   \n",
       "00010925a5                 18                         2   \n",
       "0001f552b0                 15                         4   \n",
       "00020e7b18                 18                         4   \n",
       "\n",
       "            regular_points_spent_sum_all ab_group  \n",
       "client_id                                          \n",
       "000012768d                           0.0        B  \n",
       "000036f903                           0.0        B  \n",
       "00010925a5                         -17.0        A  \n",
       "0001f552b0                           0.0        B  \n",
       "00020e7b18                        -592.0        A  "
      ]
     },
     "execution_count": 37,
     "metadata": {},
     "output_type": "execute_result"
    }
   ],
   "source": [
    "ab = pd.read_csv(path + '/ab_test.csv', index_col='client_id')\n",
    "ab.head()"
   ]
  },
  {
   "cell_type": "code",
   "execution_count": 38,
   "metadata": {},
   "outputs": [
    {
     "data": {
      "text/html": [
       "<div>\n",
       "<style scoped>\n",
       "    .dataframe tbody tr th:only-of-type {\n",
       "        vertical-align: middle;\n",
       "    }\n",
       "\n",
       "    .dataframe tbody tr th {\n",
       "        vertical-align: top;\n",
       "    }\n",
       "\n",
       "    .dataframe thead th {\n",
       "        text-align: right;\n",
       "    }\n",
       "</style>\n",
       "<table border=\"1\" class=\"dataframe\">\n",
       "  <thead>\n",
       "    <tr style=\"text-align: right;\">\n",
       "      <th></th>\n",
       "      <th>total_trans_count</th>\n",
       "      <th>product_quantity_sum_all</th>\n",
       "      <th>regular_points_spent_sum_all</th>\n",
       "    </tr>\n",
       "  </thead>\n",
       "  <tbody>\n",
       "    <tr>\n",
       "      <td>count</td>\n",
       "      <td>99968.000000</td>\n",
       "      <td>99968.000000</td>\n",
       "      <td>99968.000000</td>\n",
       "    </tr>\n",
       "    <tr>\n",
       "      <td>mean</td>\n",
       "      <td>20.165943</td>\n",
       "      <td>2.920294</td>\n",
       "      <td>-73.322553</td>\n",
       "    </tr>\n",
       "    <tr>\n",
       "      <td>std</td>\n",
       "      <td>17.829443</td>\n",
       "      <td>1.968733</td>\n",
       "      <td>128.257498</td>\n",
       "    </tr>\n",
       "    <tr>\n",
       "      <td>min</td>\n",
       "      <td>1.000000</td>\n",
       "      <td>1.000000</td>\n",
       "      <td>-4173.000000</td>\n",
       "    </tr>\n",
       "    <tr>\n",
       "      <td>25%</td>\n",
       "      <td>8.000000</td>\n",
       "      <td>2.000000</td>\n",
       "      <td>-98.000000</td>\n",
       "    </tr>\n",
       "    <tr>\n",
       "      <td>50%</td>\n",
       "      <td>15.000000</td>\n",
       "      <td>2.000000</td>\n",
       "      <td>-27.000000</td>\n",
       "    </tr>\n",
       "    <tr>\n",
       "      <td>75%</td>\n",
       "      <td>27.000000</td>\n",
       "      <td>4.000000</td>\n",
       "      <td>0.000000</td>\n",
       "    </tr>\n",
       "    <tr>\n",
       "      <td>max</td>\n",
       "      <td>320.000000</td>\n",
       "      <td>34.000000</td>\n",
       "      <td>0.000000</td>\n",
       "    </tr>\n",
       "  </tbody>\n",
       "</table>\n",
       "</div>"
      ],
      "text/plain": [
       "       total_trans_count  product_quantity_sum_all  \\\n",
       "count       99968.000000              99968.000000   \n",
       "mean           20.165943                  2.920294   \n",
       "std            17.829443                  1.968733   \n",
       "min             1.000000                  1.000000   \n",
       "25%             8.000000                  2.000000   \n",
       "50%            15.000000                  2.000000   \n",
       "75%            27.000000                  4.000000   \n",
       "max           320.000000                 34.000000   \n",
       "\n",
       "       regular_points_spent_sum_all  \n",
       "count                  99968.000000  \n",
       "mean                     -73.322553  \n",
       "std                      128.257498  \n",
       "min                    -4173.000000  \n",
       "25%                      -98.000000  \n",
       "50%                      -27.000000  \n",
       "75%                        0.000000  \n",
       "max                        0.000000  "
      ]
     },
     "execution_count": 38,
     "metadata": {},
     "output_type": "execute_result"
    }
   ],
   "source": [
    "ab[ab['ab_group'] == 'A'].describe()"
   ]
  },
  {
   "cell_type": "code",
   "execution_count": 39,
   "metadata": {},
   "outputs": [
    {
     "data": {
      "text/html": [
       "<div>\n",
       "<style scoped>\n",
       "    .dataframe tbody tr th:only-of-type {\n",
       "        vertical-align: middle;\n",
       "    }\n",
       "\n",
       "    .dataframe tbody tr th {\n",
       "        vertical-align: top;\n",
       "    }\n",
       "\n",
       "    .dataframe thead th {\n",
       "        text-align: right;\n",
       "    }\n",
       "</style>\n",
       "<table border=\"1\" class=\"dataframe\">\n",
       "  <thead>\n",
       "    <tr style=\"text-align: right;\">\n",
       "      <th></th>\n",
       "      <th>total_trans_count</th>\n",
       "      <th>product_quantity_sum_all</th>\n",
       "      <th>regular_points_spent_sum_all</th>\n",
       "    </tr>\n",
       "  </thead>\n",
       "  <tbody>\n",
       "    <tr>\n",
       "      <td>count</td>\n",
       "      <td>100071.000000</td>\n",
       "      <td>100071.000000</td>\n",
       "      <td>100071.000000</td>\n",
       "    </tr>\n",
       "    <tr>\n",
       "      <td>mean</td>\n",
       "      <td>20.075746</td>\n",
       "      <td>2.921086</td>\n",
       "      <td>-73.471545</td>\n",
       "    </tr>\n",
       "    <tr>\n",
       "      <td>std</td>\n",
       "      <td>17.634355</td>\n",
       "      <td>2.041020</td>\n",
       "      <td>136.639585</td>\n",
       "    </tr>\n",
       "    <tr>\n",
       "      <td>min</td>\n",
       "      <td>1.000000</td>\n",
       "      <td>1.000000</td>\n",
       "      <td>-10131.000000</td>\n",
       "    </tr>\n",
       "    <tr>\n",
       "      <td>25%</td>\n",
       "      <td>8.000000</td>\n",
       "      <td>2.000000</td>\n",
       "      <td>-98.000000</td>\n",
       "    </tr>\n",
       "    <tr>\n",
       "      <td>50%</td>\n",
       "      <td>15.000000</td>\n",
       "      <td>2.000000</td>\n",
       "      <td>-27.000000</td>\n",
       "    </tr>\n",
       "    <tr>\n",
       "      <td>75%</td>\n",
       "      <td>27.000000</td>\n",
       "      <td>4.000000</td>\n",
       "      <td>0.000000</td>\n",
       "    </tr>\n",
       "    <tr>\n",
       "      <td>max</td>\n",
       "      <td>307.000000</td>\n",
       "      <td>95.000000</td>\n",
       "      <td>0.000000</td>\n",
       "    </tr>\n",
       "  </tbody>\n",
       "</table>\n",
       "</div>"
      ],
      "text/plain": [
       "       total_trans_count  product_quantity_sum_all  \\\n",
       "count      100071.000000             100071.000000   \n",
       "mean           20.075746                  2.921086   \n",
       "std            17.634355                  2.041020   \n",
       "min             1.000000                  1.000000   \n",
       "25%             8.000000                  2.000000   \n",
       "50%            15.000000                  2.000000   \n",
       "75%            27.000000                  4.000000   \n",
       "max           307.000000                 95.000000   \n",
       "\n",
       "       regular_points_spent_sum_all  \n",
       "count                 100071.000000  \n",
       "mean                     -73.471545  \n",
       "std                      136.639585  \n",
       "min                   -10131.000000  \n",
       "25%                      -98.000000  \n",
       "50%                      -27.000000  \n",
       "75%                        0.000000  \n",
       "max                        0.000000  "
      ]
     },
     "execution_count": 39,
     "metadata": {},
     "output_type": "execute_result"
    }
   ],
   "source": [
    "ab[ab['ab_group'] == 'B'].describe()"
   ]
  },
  {
   "cell_type": "markdown",
   "metadata": {},
   "source": [
    "По описательным статистикам не видно никакой разницы. Посмотрим на распределения."
   ]
  },
  {
   "cell_type": "code",
   "execution_count": 48,
   "metadata": {},
   "outputs": [
    {
     "data": {
      "image/png": "[encoded data removed]",
      "text/plain": [
       "<Figure size 720x720 with 4 Axes>"
      ]
     },
     "metadata": {
      "needs_background": "light"
     },
     "output_type": "display_data"
    }
   ],
   "source": [
    "ab[ab['ab_group'] == 'A'].hist(figsize=(10,10), bins=8, grid=True);"
   ]
  },
  {
   "cell_type": "code",
   "execution_count": 51,
   "metadata": {},
   "outputs": [
    {
     "data": {
      "image/png": "[encoded data removed]",
      "text/plain": [
       "<Figure size 720x720 with 4 Axes>"
      ]
     },
     "metadata": {
      "needs_background": "light"
     },
     "output_type": "display_data"
    }
   ],
   "source": [
    "ab[ab['ab_group'] == 'B'].hist(figsize=(10,10), bins=8, grid=True);"
   ]
  },
  {
   "cell_type": "markdown",
   "metadata": {},
   "source": [
    "Нормальным распределение не выглядит. Проверим при помощи критерия Колмогорова-Смирнова."
   ]
  },
  {
   "cell_type": "code",
   "execution_count": 68,
   "metadata": {},
   "outputs": [],
   "source": [
    "features = ['total_trans_count', 'product_quantity_sum_all', 'regular_points_spent_sum_all']"
   ]
  },
  {
   "cell_type": "code",
   "execution_count": 71,
   "metadata": {},
   "outputs": [
    {
     "data": {
      "text/plain": [
       "[0.0, 0.0, 0.0]"
      ]
     },
     "execution_count": 71,
     "metadata": {},
     "output_type": "execute_result"
    }
   ],
   "source": [
    "list(map(lambda x: test(ab[ab['ab_group'] == 'A'], x), features))"
   ]
  },
  {
   "cell_type": "code",
   "execution_count": 72,
   "metadata": {},
   "outputs": [
    {
     "data": {
      "text/plain": [
       "[0.0, 0.0, 0.0]"
      ]
     },
     "execution_count": 72,
     "metadata": {},
     "output_type": "execute_result"
    }
   ],
   "source": [
    "list(map(lambda x: test(ab[ab['ab_group'] == 'B'], x), features))"
   ]
  },
  {
   "cell_type": "markdown",
   "metadata": {},
   "source": [
    "Для всех признаков в обоих группах распределение не является нормальным. Проверим различия критерием Манна-Уитни."
   ]
  },
  {
   "cell_type": "markdown",
   "metadata": {},
   "source": [
    "У нас есть контрольная группа и эксперементальная. При этом, нам важно не допустить ошибку второго рода, т.е. получить неверный\n",
    "ответ о том, что различия между группами значимы и запустить в прод не ту модель. \n",
    "Проблема заключается в том, что подведение итогов с уровнем значимости 0.05  может привести к кратному росту доли ошибок первого/второго рода. Это может произойти, потому что при каждом применении статистического критерия вероятность ошибки рода будет 5%. Будем использовать поправку Холма-Бонферонни."
   ]
  },
  {
   "cell_type": "markdown",
   "metadata": {},
   "source": [
    "P-value первой гипотезы сравнивается с уровнем статистический значимости $\\alpha/ngroups$. Если гипотеза принимается, \n",
    "то переходим ко второй и сравниваем её p-value с уровнем статистической значимости $\\alpha/(ngroups − 1)$, и так далее. \n",
    "Как только какая-то гипотеза отвергается, процесс останавливается и все оставшиеся гипотезы так же отвергаются. \n",
    "Самое жёсткое требование (и такое же, как в поправке Бонферрони) накладывается на гипотезу с наименьшим p-value, \n",
    "а большая мощность достигается за счёт менее жёстких условий для последующих гипотез. "
   ]
  },
  {
   "cell_type": "code",
   "execution_count": 100,
   "metadata": {},
   "outputs": [],
   "source": [
    "p_values = multiple_comparisons(ab, features, mannwhitneyu)"
   ]
  },
  {
   "cell_type": "code",
   "execution_count": 103,
   "metadata": {},
   "outputs": [
    {
     "data": {
      "image/png": "[encoded data removed]",
      "text/plain": [
       "<Figure size 504x216 with 1 Axes>"
      ]
     },
     "metadata": {},
     "output_type": "display_data"
    }
   ],
   "source": [
    "plot_p_values(p_values, threshold=0.05, bins=5)"
   ]
  },
  {
   "cell_type": "code",
   "execution_count": 115,
   "metadata": {},
   "outputs": [
    {
     "name": "stdout",
     "output_type": "stream",
     "text": [
      "Количество статистически значимых результатов составляет 100.0 процентов\n"
     ]
    }
   ],
   "source": [
    "print(f'Количество статистически значимых результатов составляет {holm_bonferonni_correction(data=ab, p_values=p_values, threshold=0.05)} процентов')"
   ]
  },
  {
   "cell_type": "markdown",
   "metadata": {},
   "source": [
    "Если бы нам было необходимо учитывать потери альтернативных доходов, надо было бы использовать обычную поправку Бонферонни."
   ]
  },
  {
   "cell_type": "markdown",
   "metadata": {},
   "source": [
    "Итак, мы не видим статистически значимых результатов в искомых показателях между группами А и B.\n",
    "Поэтому, на уровне значимости 0.05, мы отвергаем гипотезу о том, что новая модель повлияла на показатели и её не имеет смысла\n",
    "выпускать в прод."
   ]
  }
 ],
 "metadata": {
  "kernelspec": {
   "display_name": "Python 3",
   "language": "python",
   "name": "python3"
  },
  "language_info": {
   "codemirror_mode": {
    "name": "ipython",
    "version": 3
   },
   "file_extension": ".py",
   "mimetype": "text/x-python",
   "name": "python",
   "nbconvert_exporter": "python",
   "pygments_lexer": "ipython3",
   "version": "3.7.4"
  }
 },
 "nbformat": 4,
 "nbformat_minor": 2
}
