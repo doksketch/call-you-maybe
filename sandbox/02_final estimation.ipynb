{
 "cells": [
  {
   "cell_type": "code",
   "execution_count": 54,
   "metadata": {},
   "outputs": [],
   "source": [
    "import numpy as np\n",
    "import pandas as pd\n",
    "import matplotlib.pyplot as plt\n",
    "import seaborn as sns\n",
    "from sklearn.model_selection import StratifiedKFold\n",
    "from sklearn.model_selection import cross_val_score\n",
    "from sklearn.base import BaseEstimator, TransformerMixin\n",
    "from sklearn.pipeline import Pipeline, FeatureUnion\n",
    "from sklearn.model_selection import train_test_split\n",
    "from sklearn.metrics import roc_curve, roc_auc_score\n",
    "import xgboost as xgb\n",
    "from hyperopt import fmin, tpe, hp, Trials, STATUS_OK, space_eval\n",
    "from functools import partial\n",
    "from hyperopt.pyll.base import scope\n",
    "from sklift.metrics import uplift_at_k\n",
    "from sklift.viz import plot_uplift_preds\n",
    "from sklift.models import TwoModels\n",
    "from sklift.models import SoloModel\n",
    "from sklift.models import ClassTransformation"
   ]
  },
  {
   "cell_type": "code",
   "execution_count": 2,
   "metadata": {},
   "outputs": [],
   "source": [
    "import warnings\n",
    "warnings.filterwarnings('ignore')"
   ]
  },
  {
   "cell_type": "markdown",
   "metadata": {},
   "source": [
    "# Финальная оценка результатов"
   ]
  },
  {
   "cell_type": "code",
   "execution_count": 3,
   "metadata": {},
   "outputs": [],
   "source": [
    "path = 'E:/retailhero-uplift/data'"
   ]
  },
  {
   "cell_type": "code",
   "execution_count": 4,
   "metadata": {},
   "outputs": [
    {
     "data": {
      "text/html": [
       "<div>\n",
       "<style scoped>\n",
       "    .dataframe tbody tr th:only-of-type {\n",
       "        vertical-align: middle;\n",
       "    }\n",
       "\n",
       "    .dataframe tbody tr th {\n",
       "        vertical-align: top;\n",
       "    }\n",
       "\n",
       "    .dataframe thead th {\n",
       "        text-align: right;\n",
       "    }\n",
       "</style>\n",
       "<table border=\"1\" class=\"dataframe\">\n",
       "  <thead>\n",
       "    <tr style=\"text-align: right;\">\n",
       "      <th></th>\n",
       "      <th>first_issue_date</th>\n",
       "      <th>first_redeem_date</th>\n",
       "      <th>age</th>\n",
       "      <th>gender</th>\n",
       "      <th>treatment_flg</th>\n",
       "      <th>target</th>\n",
       "      <th>total_trans_count</th>\n",
       "      <th>last_month_trans_count</th>\n",
       "      <th>regular_points_received_sum_all</th>\n",
       "      <th>express_points_received_sum_all</th>\n",
       "      <th>...</th>\n",
       "      <th>purchase_sum_sum_all</th>\n",
       "      <th>store_id_sum_all</th>\n",
       "      <th>product_quantity_sum_all</th>\n",
       "      <th>regular_points_received_sum_last_month</th>\n",
       "      <th>express_points_received_sum_last_month</th>\n",
       "      <th>regular_points_spent_sum_last_month</th>\n",
       "      <th>express_points_spent_sum_last_month</th>\n",
       "      <th>purchase_sum_sum_last_month</th>\n",
       "      <th>store_id_sum_last_month</th>\n",
       "      <th>product_quantity_sum_last_month</th>\n",
       "    </tr>\n",
       "    <tr>\n",
       "      <th>client_id</th>\n",
       "      <th></th>\n",
       "      <th></th>\n",
       "      <th></th>\n",
       "      <th></th>\n",
       "      <th></th>\n",
       "      <th></th>\n",
       "      <th></th>\n",
       "      <th></th>\n",
       "      <th></th>\n",
       "      <th></th>\n",
       "      <th></th>\n",
       "      <th></th>\n",
       "      <th></th>\n",
       "      <th></th>\n",
       "      <th></th>\n",
       "      <th></th>\n",
       "      <th></th>\n",
       "      <th></th>\n",
       "      <th></th>\n",
       "      <th></th>\n",
       "      <th></th>\n",
       "    </tr>\n",
       "  </thead>\n",
       "  <tbody>\n",
       "    <tr>\n",
       "      <td>000012768d</td>\n",
       "      <td>2017-08-05 15:40:48</td>\n",
       "      <td>2018-01-04 19:30:07</td>\n",
       "      <td>45</td>\n",
       "      <td>U</td>\n",
       "      <td>0</td>\n",
       "      <td>1</td>\n",
       "      <td>4</td>\n",
       "      <td>2</td>\n",
       "      <td>25.7</td>\n",
       "      <td>0.0</td>\n",
       "      <td>...</td>\n",
       "      <td>2803.00</td>\n",
       "      <td>4.0</td>\n",
       "      <td>3</td>\n",
       "      <td>10.0</td>\n",
       "      <td>0.0</td>\n",
       "      <td>0.0</td>\n",
       "      <td>0.0</td>\n",
       "      <td>1222.00</td>\n",
       "      <td>2.0</td>\n",
       "      <td>1</td>\n",
       "    </tr>\n",
       "    <tr>\n",
       "      <td>000036f903</td>\n",
       "      <td>2017-04-10 13:54:23</td>\n",
       "      <td>2017-04-23 12:37:56</td>\n",
       "      <td>72</td>\n",
       "      <td>F</td>\n",
       "      <td>1</td>\n",
       "      <td>1</td>\n",
       "      <td>32</td>\n",
       "      <td>8</td>\n",
       "      <td>54.9</td>\n",
       "      <td>60.0</td>\n",
       "      <td>...</td>\n",
       "      <td>9805.00</td>\n",
       "      <td>32.0</td>\n",
       "      <td>5</td>\n",
       "      <td>13.7</td>\n",
       "      <td>0.0</td>\n",
       "      <td>0.0</td>\n",
       "      <td>0.0</td>\n",
       "      <td>2784.00</td>\n",
       "      <td>8.0</td>\n",
       "      <td>4</td>\n",
       "    </tr>\n",
       "    <tr>\n",
       "      <td>00010925a5</td>\n",
       "      <td>2018-07-24 16:21:29</td>\n",
       "      <td>2018-09-14 16:12:49</td>\n",
       "      <td>83</td>\n",
       "      <td>U</td>\n",
       "      <td>1</td>\n",
       "      <td>1</td>\n",
       "      <td>18</td>\n",
       "      <td>8</td>\n",
       "      <td>31.8</td>\n",
       "      <td>0.0</td>\n",
       "      <td>...</td>\n",
       "      <td>5883.00</td>\n",
       "      <td>17.0</td>\n",
       "      <td>2</td>\n",
       "      <td>13.9</td>\n",
       "      <td>0.0</td>\n",
       "      <td>0.0</td>\n",
       "      <td>0.0</td>\n",
       "      <td>2858.00</td>\n",
       "      <td>8.0</td>\n",
       "      <td>2</td>\n",
       "    </tr>\n",
       "    <tr>\n",
       "      <td>0001f552b0</td>\n",
       "      <td>2017-06-30 19:20:38</td>\n",
       "      <td>2018-08-28 12:59:45</td>\n",
       "      <td>33</td>\n",
       "      <td>F</td>\n",
       "      <td>1</td>\n",
       "      <td>1</td>\n",
       "      <td>15</td>\n",
       "      <td>7</td>\n",
       "      <td>78.9</td>\n",
       "      <td>0.0</td>\n",
       "      <td>...</td>\n",
       "      <td>6155.18</td>\n",
       "      <td>15.0</td>\n",
       "      <td>4</td>\n",
       "      <td>47.0</td>\n",
       "      <td>0.0</td>\n",
       "      <td>0.0</td>\n",
       "      <td>0.0</td>\n",
       "      <td>2211.37</td>\n",
       "      <td>6.0</td>\n",
       "      <td>2</td>\n",
       "    </tr>\n",
       "    <tr>\n",
       "      <td>00020e7b18</td>\n",
       "      <td>2017-11-27 11:41:45</td>\n",
       "      <td>2018-01-10 17:50:05</td>\n",
       "      <td>73</td>\n",
       "      <td>U</td>\n",
       "      <td>1</td>\n",
       "      <td>1</td>\n",
       "      <td>18</td>\n",
       "      <td>5</td>\n",
       "      <td>286.1</td>\n",
       "      <td>0.0</td>\n",
       "      <td>...</td>\n",
       "      <td>25819.61</td>\n",
       "      <td>27.0</td>\n",
       "      <td>4</td>\n",
       "      <td>58.4</td>\n",
       "      <td>0.0</td>\n",
       "      <td>-76.0</td>\n",
       "      <td>-10.0</td>\n",
       "      <td>6096.27</td>\n",
       "      <td>7.0</td>\n",
       "      <td>1</td>\n",
       "    </tr>\n",
       "  </tbody>\n",
       "</table>\n",
       "<p>5 rows × 22 columns</p>\n",
       "</div>"
      ],
      "text/plain": [
       "              first_issue_date   first_redeem_date  age gender  treatment_flg  \\\n",
       "client_id                                                                       \n",
       "000012768d 2017-08-05 15:40:48 2018-01-04 19:30:07   45      U              0   \n",
       "000036f903 2017-04-10 13:54:23 2017-04-23 12:37:56   72      F              1   \n",
       "00010925a5 2018-07-24 16:21:29 2018-09-14 16:12:49   83      U              1   \n",
       "0001f552b0 2017-06-30 19:20:38 2018-08-28 12:59:45   33      F              1   \n",
       "00020e7b18 2017-11-27 11:41:45 2018-01-10 17:50:05   73      U              1   \n",
       "\n",
       "            target  total_trans_count  last_month_trans_count  \\\n",
       "client_id                                                       \n",
       "000012768d       1                  4                       2   \n",
       "000036f903       1                 32                       8   \n",
       "00010925a5       1                 18                       8   \n",
       "0001f552b0       1                 15                       7   \n",
       "00020e7b18       1                 18                       5   \n",
       "\n",
       "            regular_points_received_sum_all  express_points_received_sum_all  \\\n",
       "client_id                                                                      \n",
       "000012768d                             25.7                              0.0   \n",
       "000036f903                             54.9                             60.0   \n",
       "00010925a5                             31.8                              0.0   \n",
       "0001f552b0                             78.9                              0.0   \n",
       "00020e7b18                            286.1                              0.0   \n",
       "\n",
       "            ...  purchase_sum_sum_all  store_id_sum_all  \\\n",
       "client_id   ...                                           \n",
       "000012768d  ...               2803.00               4.0   \n",
       "000036f903  ...               9805.00              32.0   \n",
       "00010925a5  ...               5883.00              17.0   \n",
       "0001f552b0  ...               6155.18              15.0   \n",
       "00020e7b18  ...              25819.61              27.0   \n",
       "\n",
       "            product_quantity_sum_all  regular_points_received_sum_last_month  \\\n",
       "client_id                                                                      \n",
       "000012768d                         3                                    10.0   \n",
       "000036f903                         5                                    13.7   \n",
       "00010925a5                         2                                    13.9   \n",
       "0001f552b0                         4                                    47.0   \n",
       "00020e7b18                         4                                    58.4   \n",
       "\n",
       "            express_points_received_sum_last_month  \\\n",
       "client_id                                            \n",
       "000012768d                                     0.0   \n",
       "000036f903                                     0.0   \n",
       "00010925a5                                     0.0   \n",
       "0001f552b0                                     0.0   \n",
       "00020e7b18                                     0.0   \n",
       "\n",
       "            regular_points_spent_sum_last_month  \\\n",
       "client_id                                         \n",
       "000012768d                                  0.0   \n",
       "000036f903                                  0.0   \n",
       "00010925a5                                  0.0   \n",
       "0001f552b0                                  0.0   \n",
       "00020e7b18                                -76.0   \n",
       "\n",
       "            express_points_spent_sum_last_month  purchase_sum_sum_last_month  \\\n",
       "client_id                                                                      \n",
       "000012768d                                  0.0                      1222.00   \n",
       "000036f903                                  0.0                      2784.00   \n",
       "00010925a5                                  0.0                      2858.00   \n",
       "0001f552b0                                  0.0                      2211.37   \n",
       "00020e7b18                                -10.0                      6096.27   \n",
       "\n",
       "            store_id_sum_last_month  product_quantity_sum_last_month  \n",
       "client_id                                                             \n",
       "000012768d                      2.0                                1  \n",
       "000036f903                      8.0                                4  \n",
       "00010925a5                      8.0                                2  \n",
       "0001f552b0                      6.0                                2  \n",
       "00020e7b18                      7.0                                1  \n",
       "\n",
       "[5 rows x 22 columns]"
      ]
     },
     "execution_count": 4,
     "metadata": {},
     "output_type": "execute_result"
    }
   ],
   "source": [
    "uplift = pd.read_csv(path + '/uplift_features.csv', index_col='client_id', parse_dates=['first_issue_date', 'first_redeem_date'])\n",
    "uplift.head()"
   ]
  },
  {
   "cell_type": "code",
   "execution_count": 5,
   "metadata": {},
   "outputs": [],
   "source": [
    "dates = ['first_issue_date', 'first_redeem_date']\n",
    "ages = ['age']\n",
    "features = ['total_trans_count', 'last_month_trans_count', 'product_quantity_sum_all', 'regular_points_spent_sum_last_month']"
   ]
  },
  {
   "cell_type": "code",
   "execution_count": 6,
   "metadata": {},
   "outputs": [],
   "source": [
    "index_train, index_valid = train_test_split(uplift.index, test_size=0.3, random_state=43)\n",
    "\n",
    "X_train = uplift.loc[index_train, :].drop(['target', 'treatment_flg'], 1)\n",
    "y_train = uplift.loc[index_train, 'target']\n",
    "treat_train = uplift.loc[index_train, 'treatment_flg']\n",
    "\n",
    "X_valid = uplift.loc[index_valid, :].drop(['target', 'treatment_flg'], 1)\n",
    "y_valid = uplift.loc[index_valid, 'target']\n",
    "treat_valid = uplift.loc[index_valid, 'treatment_flg']"
   ]
  },
  {
   "cell_type": "markdown",
   "metadata": {},
   "source": [
    "Класс для выбора колонки."
   ]
  },
  {
   "cell_type": "code",
   "execution_count": 7,
   "metadata": {},
   "outputs": [],
   "source": [
    "class ColumnSelector(BaseEstimator, TransformerMixin):\n",
    "\n",
    "    def __init__(self, column):\n",
    "        self.column = column\n",
    "\n",
    "    def fit(self, X, y=None):\n",
    "        return self\n",
    "\n",
    "    def transform(self, X):\n",
    "        return X[[self.column]]"
   ]
  },
  {
   "cell_type": "markdown",
   "metadata": {},
   "source": [
    "Класс для удаления ошибок из значений возраста."
   ]
  },
  {
   "cell_type": "code",
   "execution_count": 8,
   "metadata": {},
   "outputs": [],
   "source": [
    "class AgeTransformator(BaseEstimator, TransformerMixin):\n",
    "    \n",
    "    def __init__(self, key, age_min, age_max):\n",
    "        self.key = key\n",
    "        self.age_min = age_min\n",
    "        self.age_max = age_max\n",
    "        \n",
    "    def fit(self, X, y=None):\n",
    "        return self\n",
    "    \n",
    "    def transform(self, X, age_min  = 16, age_max = 80):\n",
    "        X.loc[X[self.key] > self.age_max, self.key] = self.age_max\n",
    "        X.loc[X[self.key] < self.age_min, self.key] = self.age_min\n",
    "        return X"
   ]
  },
  {
   "cell_type": "markdown",
   "metadata": {},
   "source": [
    "Класс для приведения даты к типу int."
   ]
  },
  {
   "cell_type": "code",
   "execution_count": 9,
   "metadata": {},
   "outputs": [],
   "source": [
    "class DateTransformator(BaseEstimator, TransformerMixin):\n",
    "    \n",
    "    def __init__(self, key):\n",
    "        self.key = key\n",
    "        self.columns = []\n",
    "        \n",
    "    def fit(self, X, y=None):\n",
    "        self.columns = [self.key+'_'+'int']\n",
    "        return self\n",
    "    \n",
    "    def transform(self, X):\n",
    "        X[self.key].fillna(uplift[self.key].mode()[0], inplace=True)\n",
    "        X[self.key+'_'+'int'] = X[self.key].astype(np.int64)\n",
    "        return X[self.columns]"
   ]
  },
  {
   "cell_type": "markdown",
   "metadata": {},
   "source": [
    "Класс для тренировки."
   ]
  },
  {
   "cell_type": "code",
   "execution_count": 74,
   "metadata": {},
   "outputs": [],
   "source": [
    "class ModelTuning:\n",
    "    #оптимизация\n",
    "    def optimize(params,x, y, model):        \n",
    "        pipeline = Pipeline([('features', feats),\n",
    "                            ('classifier', model(**params))])\n",
    "        \n",
    "        kf = StratifiedKFold(n_splits=20, shuffle=True)\n",
    "        cv_scores = cross_val_score(pipeline, x, y, \n",
    "                                    cv=kf, \n",
    "                                    scoring='roc_auc')\n",
    "\n",
    "        return np.mean(cv_scores)\n",
    "\n",
    "    def tune(x, y, model):\n",
    "        trials = Trials()\n",
    "        best_params = fmin(fn=partial(ModelTuning.optimize, x=x, y=y, model=model),\n",
    "                    space=space_freq, trials=trials, algo=tpe.suggest, max_evals=15)\n",
    "\n",
    "        return best_params\n",
    "    \n",
    "    # Построение модели с ранней остановкой (early stopping)\n",
    "    def get_predictions(best_params, train_params, train, y, valid, model):\n",
    "        \n",
    "        pipeline = Pipeline([('features', feats),\n",
    "                            ('classifier', model(params=best_params, \n",
    "                                                 **train_params,\n",
    "                                                 early_stopping_rounds=20))])\n",
    "    \n",
    "        pipeline.fit(X=train, y=y)\n",
    "        preds = pipeline.predict(valid)\n",
    "        return preds\n",
    "\n",
    "    #численная оценка roc-auc\n",
    "    def grade(y_test, preds):\n",
    "        score = roc_auc_score(y_test, preds)\n",
    "        return score\n",
    "    \n",
    "    #функция для двух независимых моделей\n",
    "    def two_models(best_params, train_params, model, train, y_train, treat_train, valid, y_valid, k, strategy):\n",
    "        pipeline = Pipeline([('features', feats),\n",
    "                            ('classifier', model(params=best_params, \n",
    "                                                 **train_params))])\n",
    "                \n",
    "        pipeline1 = Pipeline([('features', feats),\n",
    "                            ('classifier', model(params=best_params, \n",
    "                                                 **train_params))])\n",
    "        \n",
    "        tm = TwoModels(estimator_trmnt=pipeline, estimator_ctrl=pipeline1)\n",
    "\n",
    "        tm = tm.fit(train, y_train, treat_train)\n",
    "        uplift_tm = tm.predict(valid)\n",
    "        tm_score_30 = uplift_at_k(y_true=y_valid, uplift=uplift_tm, treatment=treat_valid, strategy=strategy, k=k)\n",
    "    \n",
    "        return tm_score_30\n",
    "    \n",
    "    def solo_learner(best_params, train_params, train, model, y_train, treat_train, valid, y_valid, k, strategy):\n",
    "        pipeline = Pipeline([('features', feats),\n",
    "                            ('classifier', model(params=best_params, \n",
    "                                                 **train_params))])\n",
    "        sm = SoloModel(estimator=pipeline)\n",
    "        sm.fit(X_train, y_train, treat_train)\n",
    "        uplift_sm = sm.predict(X_valid)\n",
    "        sm_score_30 = uplift_at_k(y_true=y_valid, uplift=uplift_sm, treatment=treat_valid, strategy=strategy, k=k)\n",
    "        return sm_score_30\n",
    "    \n",
    "        \n",
    "    def class_transformation(best_params, train_params, train, model, y_train, treat_train, valid, y_valid, k, strategy):\n",
    "        pipeline = Pipeline([('features', feats),\n",
    "                            ('classifier', model(params=best_params, \n",
    "                                                 **train_params))])\n",
    "        ct = ClassTransformation(estimator=pipeline)\n",
    "        ct = ct.fit(X_train, y_train, treat_train)\n",
    "        uplift_ct = ct.predict(X_valid)\n",
    "\n",
    "        ct_score_30 = uplift_at_k(y_true=y_valid, uplift=uplift_ct, treatment=treat_valid, strategy=strategy, k=k)\n",
    "        return ct_score_30"
   ]
  },
  {
   "cell_type": "code",
   "execution_count": 12,
   "metadata": {},
   "outputs": [],
   "source": [
    "final_transformers = []\n",
    "\n",
    "\n",
    "for age in ages:\n",
    "    process_age = Pipeline([('selector', ColumnSelector(column='age')),\n",
    "                ('process_age', AgeTransformator(key='age', age_min = 16, age_max = 80))\n",
    "               ])\n",
    "    \n",
    "    final_transformers.append((age, process_age))\n",
    "\n",
    "for date in dates:\n",
    "    prepare_date = Pipeline([\n",
    "        ('selector', ColumnSelector(column=date)),\n",
    "        ('transformer', DateTransformator(key=date))\n",
    "        ])\n",
    "    \n",
    "    final_transformers.append((date, prepare_date))\n",
    "    \n",
    "for feature in features:\n",
    "    num_selector = Pipeline([\n",
    "                ('selector', ColumnSelector(column=feature))\n",
    "    ])\n",
    "    \n",
    "    final_transformers.append((feature, num_selector))"
   ]
  },
  {
   "cell_type": "code",
   "execution_count": 13,
   "metadata": {},
   "outputs": [
    {
     "data": {
      "text/plain": [
       "array([[ 4.60000000e+01,  1.52252139e+18,  1.52948309e+18, ...,\n",
       "         9.00000000e+00,  3.00000000e+00,  0.00000000e+00],\n",
       "       [ 4.90000000e+01,  1.50074818e+18,  1.50563905e+18, ...,\n",
       "         7.00000000e+00,  6.00000000e+00, -1.80000000e+01],\n",
       "       [ 3.40000000e+01,  1.54504250e+18,  1.54996771e+18, ...,\n",
       "         5.00000000e+00,  4.00000000e+00,  0.00000000e+00],\n",
       "       ...,\n",
       "       [ 4.50000000e+01,  1.50289970e+18,  1.53537638e+18, ...,\n",
       "         1.00000000e+00,  2.00000000e+00,  0.00000000e+00],\n",
       "       [ 3.60000000e+01,  1.50256528e+18,  1.51524309e+18, ...,\n",
       "         6.00000000e+00,  1.00000000e+00,  0.00000000e+00],\n",
       "       [ 5.70000000e+01,  1.50861288e+18,  1.55172719e+18, ...,\n",
       "         8.00000000e+00,  6.00000000e+00, -1.21000000e+02]])"
      ]
     },
     "execution_count": 13,
     "metadata": {},
     "output_type": "execute_result"
    }
   ],
   "source": [
    "feats = FeatureUnion(final_transformers)\n",
    "feature_processing = Pipeline([('feats', feats)])\n",
    "feature_processing.fit_transform(X_train)\n",
    "feature_processing.fit_transform(X_valid)"
   ]
  },
  {
   "cell_type": "markdown",
   "metadata": {},
   "source": [
    "Сделаем модель попроще."
   ]
  },
  {
   "cell_type": "code",
   "execution_count": 60,
   "metadata": {},
   "outputs": [],
   "source": [
    "#пространство поиска\n",
    "space_freq = {\n",
    "              'objective': 'binary:logistic',\n",
    "              'max_depth': scope.int(hp.quniform('max_depth', 2, 4, 1)),\n",
    "              'eta': hp.uniform('eta', 0.01, 0.3),\n",
    "              }\n",
    "    \n",
    "train_params = {\n",
    "                'num_boost_round': 150,\n",
    "                'maximize': False,\n",
    "                'verbose_eval': False}"
   ]
  },
  {
   "cell_type": "code",
   "execution_count": 61,
   "metadata": {},
   "outputs": [
    {
     "name": "stdout",
     "output_type": "stream",
     "text": [
      "100%|███████████████████████████████████████████████| 15/15 [34:40<00:00, 138.70s/trial, best loss: 0.7768645867639131]\n"
     ]
    }
   ],
   "source": [
    "best_params = ModelTuning.tune(x=X_train,\n",
    "                              y=y_train,\n",
    "                              model=xgb.XGBClassifier)"
   ]
  },
  {
   "cell_type": "code",
   "execution_count": 62,
   "metadata": {},
   "outputs": [
    {
     "data": {
      "text/plain": [
       "{'eta': 0.19452171170790064, 'max_depth': 2, 'objective': 'binary:logistic'}"
      ]
     },
     "execution_count": 62,
     "metadata": {},
     "output_type": "execute_result"
    }
   ],
   "source": [
    "best_params = space_eval(space_freq, best_params)\n",
    "best_params"
   ]
  },
  {
   "cell_type": "code",
   "execution_count": 65,
   "metadata": {},
   "outputs": [],
   "source": [
    "preds = ModelTuning.get_predictions(best_params=best_params, \n",
    "                        train_params=train_params, \n",
    "                        train=X_train, \n",
    "                        y=y_train, \n",
    "                        valid=X_valid, \n",
    "                        model=xgb.XGBClassifier)"
   ]
  },
  {
   "cell_type": "code",
   "execution_count": 68,
   "metadata": {},
   "outputs": [
    {
     "data": {
      "text/plain": [
       "0.690471031569179"
      ]
     },
     "execution_count": 68,
     "metadata": {},
     "output_type": "execute_result"
    }
   ],
   "source": [
    "ModelTuning.grade(y_test = y_valid,\n",
    "                        preds=preds)"
   ]
  },
  {
   "cell_type": "markdown",
   "metadata": {},
   "source": [
    "Как рассчитывается метрика uplift.\n",
    "Все тестовые данные отсортированы в порядке убывания прогнозируемого роста. Затем рассчитывается конверсия в 30% лучших в экспериментальной группе и конверсию в 30% лучших в контрольной группе отдельно. Uplift - это разница между двумя преобразованиями."
   ]
  },
  {
   "cell_type": "code",
   "execution_count": 71,
   "metadata": {},
   "outputs": [
    {
     "data": {
      "text/plain": [
       "0.06912603584648391"
      ]
     },
     "execution_count": 71,
     "metadata": {},
     "output_type": "execute_result"
    }
   ],
   "source": [
    "ModelTuning.two_models(best_params = best_params, \n",
    "                       train_params = train_params, \n",
    "                       model = xgb.XGBClassifier, \n",
    "                       train = X_train, \n",
    "                       y_train = y_train, \n",
    "                       treat_train = treat_train, \n",
    "                       valid=X_valid,\n",
    "                       y_valid = y_valid, \n",
    "                       k=0.3, \n",
    "                       strategy='by_group')"
   ]
  },
  {
   "cell_type": "code",
   "execution_count": 72,
   "metadata": {},
   "outputs": [
    {
     "data": {
      "text/plain": [
       "0.04371965770784314"
      ]
     },
     "execution_count": 72,
     "metadata": {},
     "output_type": "execute_result"
    }
   ],
   "source": [
    "ModelTuning.solo_learner(best_params = best_params, \n",
    "                       train_params = train_params,\n",
    "                       model = xgb.XGBClassifier,\n",
    "                       train = X_train, \n",
    "                       y_train = y_train, \n",
    "                       treat_train = treat_train, \n",
    "                       valid=X_valid,\n",
    "                       y_valid = y_valid, \n",
    "                       k=0.3, \n",
    "                       strategy='by_group')"
   ]
  },
  {
   "cell_type": "code",
   "execution_count": 73,
   "metadata": {},
   "outputs": [
    {
     "data": {
      "text/plain": [
       "0.07021892608649721"
      ]
     },
     "execution_count": 73,
     "metadata": {},
     "output_type": "execute_result"
    }
   ],
   "source": [
    "ModelTuning.class_transformation(best_params = best_params, \n",
    "                       train_params = train_params,\n",
    "                       model = xgb.XGBClassifier,\n",
    "                       train = X_train, \n",
    "                       y_train = y_train, \n",
    "                       treat_train = treat_train, \n",
    "                       valid=X_valid,\n",
    "                       y_valid = y_valid, \n",
    "                       k=0.3, \n",
    "                       strategy='by_group')"
   ]
  },
  {
   "cell_type": "markdown",
   "metadata": {},
   "source": [
    "Roc Auc подрос, а вот uplift - нет. Возможно, нужно строить более сильные фичи и делать другой принцип разбиения на трэйн и тест."
   ]
  }
 ],
 "metadata": {
  "kernelspec": {
   "display_name": "Python 3",
   "language": "python",
   "name": "python3"
  },
  "language_info": {
   "codemirror_mode": {
    "name": "ipython",
    "version": 3
   },
   "file_extension": ".py",
   "mimetype": "text/x-python",
   "name": "python",
   "nbconvert_exporter": "python",
   "pygments_lexer": "ipython3",
   "version": "3.7.4"
  }
 },
 "nbformat": 4,
 "nbformat_minor": 2
}
