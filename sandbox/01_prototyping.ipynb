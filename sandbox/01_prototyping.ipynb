{
 "cells": [
  {
   "cell_type": "code",
<<<<<<< HEAD
   "execution_count": 191,
=======
   "execution_count": 51,
>>>>>>> 57e024300a961d811d3706c0f2f183877608ff1c
   "metadata": {},
   "outputs": [],
   "source": [
    "import numpy as np\n",
    "import pandas as pd\n",
    "import matplotlib.pyplot as plt\n",
    "import seaborn as sns\n",
    "from sklearn.model_selection import StratifiedKFold\n",
    "from sklearn.model_selection import cross_val_score\n",
    "from sklearn.base import BaseEstimator, TransformerMixin\n",
    "from sklearn.pipeline import Pipeline, FeatureUnion\n",
    "from sklearn.model_selection import train_test_split\n",
    "from sklearn.metrics import roc_curve, roc_auc_score\n",
    "from sklearn.feature_selection import SequentialFeatureSelector\n",
    "import xgboost as xgb\n",
    "from hyperopt import fmin, tpe, hp, Trials, STATUS_OK, space_eval\n",
    "from functools import partial\n",
    "from hyperopt.pyll.base import scope\n",
    "from sklift.metrics import uplift_at_k\n",
    "from sklift.viz import plot_uplift_preds\n",
    "from sklift.models import TwoModels\n",
<<<<<<< HEAD
    "import dill"
=======
    "from sklift.models import ClassTransformation"
>>>>>>> 57e024300a961d811d3706c0f2f183877608ff1c
   ]
  },
  {
   "cell_type": "code",
   "execution_count": 52,
   "metadata": {},
   "outputs": [],
   "source": [
    "import warnings\n",
    "warnings.filterwarnings('ignore')"
   ]
  },
  {
   "cell_type": "markdown",
   "metadata": {},
   "source": [
    "# Прототипирование"
   ]
  },
  {
   "cell_type": "markdown",
   "metadata": {},
   "source": [
    "* [0.Используемые классы и функции](#global)\n",
    "* [1.Feature Engineering. Часть 1](#fe1)\n",
    "* [2.Feature Engineering. Часть 2](#fe2)\n",
    "* [3.Жадный отбор признаков](#greedy)"
   ]
  },
  {
   "cell_type": "code",
   "execution_count": 11,
   "metadata": {},
   "outputs": [],
   "source": [
    "path = 'E:/retailhero-uplift/data'"
   ]
  },
  {
   "cell_type": "code",
   "execution_count": 22,
   "metadata": {},
   "outputs": [
    {
     "data": {
      "text/html": [
       "<div>\n",
       "<style scoped>\n",
       "    .dataframe tbody tr th:only-of-type {\n",
       "        vertical-align: middle;\n",
       "    }\n",
       "\n",
       "    .dataframe tbody tr th {\n",
       "        vertical-align: top;\n",
       "    }\n",
       "\n",
       "    .dataframe thead th {\n",
       "        text-align: right;\n",
       "    }\n",
       "</style>\n",
       "<table border=\"1\" class=\"dataframe\">\n",
       "  <thead>\n",
       "    <tr style=\"text-align: right;\">\n",
       "      <th></th>\n",
       "      <th>client_id</th>\n",
       "      <th>first_issue_date</th>\n",
       "      <th>first_redeem_date</th>\n",
       "      <th>age</th>\n",
       "      <th>gender</th>\n",
       "      <th>treatment_flg</th>\n",
       "      <th>target</th>\n",
       "    </tr>\n",
       "  </thead>\n",
       "  <tbody>\n",
       "    <tr>\n",
       "      <td>0</td>\n",
       "      <td>000012768d</td>\n",
       "      <td>2017-08-05 15:40:48</td>\n",
       "      <td>2018-01-04 19:30:07</td>\n",
       "      <td>45</td>\n",
       "      <td>U</td>\n",
       "      <td>0</td>\n",
       "      <td>1</td>\n",
       "    </tr>\n",
       "    <tr>\n",
       "      <td>1</td>\n",
       "      <td>000036f903</td>\n",
       "      <td>2017-04-10 13:54:23</td>\n",
       "      <td>2017-04-23 12:37:56</td>\n",
       "      <td>72</td>\n",
       "      <td>F</td>\n",
       "      <td>1</td>\n",
       "      <td>1</td>\n",
       "    </tr>\n",
       "    <tr>\n",
       "      <td>2</td>\n",
       "      <td>00010925a5</td>\n",
       "      <td>2018-07-24 16:21:29</td>\n",
       "      <td>2018-09-14 16:12:49</td>\n",
       "      <td>83</td>\n",
       "      <td>U</td>\n",
       "      <td>1</td>\n",
       "      <td>1</td>\n",
       "    </tr>\n",
       "    <tr>\n",
       "      <td>3</td>\n",
       "      <td>0001f552b0</td>\n",
       "      <td>2017-06-30 19:20:38</td>\n",
       "      <td>2018-08-28 12:59:45</td>\n",
       "      <td>33</td>\n",
       "      <td>F</td>\n",
       "      <td>1</td>\n",
       "      <td>1</td>\n",
       "    </tr>\n",
       "    <tr>\n",
       "      <td>4</td>\n",
       "      <td>00020e7b18</td>\n",
       "      <td>2017-11-27 11:41:45</td>\n",
       "      <td>2018-01-10 17:50:05</td>\n",
       "      <td>73</td>\n",
       "      <td>U</td>\n",
       "      <td>1</td>\n",
       "      <td>1</td>\n",
       "    </tr>\n",
       "  </tbody>\n",
       "</table>\n",
       "</div>"
      ],
      "text/plain": [
       "    client_id     first_issue_date    first_redeem_date  age gender  \\\n",
       "0  000012768d  2017-08-05 15:40:48  2018-01-04 19:30:07   45      U   \n",
       "1  000036f903  2017-04-10 13:54:23  2017-04-23 12:37:56   72      F   \n",
       "2  00010925a5  2018-07-24 16:21:29  2018-09-14 16:12:49   83      U   \n",
       "3  0001f552b0  2017-06-30 19:20:38  2018-08-28 12:59:45   33      F   \n",
       "4  00020e7b18  2017-11-27 11:41:45  2018-01-10 17:50:05   73      U   \n",
       "\n",
       "   treatment_flg  target  \n",
       "0              0       1  \n",
       "1              1       1  \n",
       "2              1       1  \n",
       "3              1       1  \n",
       "4              1       1  "
      ]
     },
     "execution_count": 22,
     "metadata": {},
     "output_type": "execute_result"
    }
   ],
   "source": [
    "uplift = pd.read_csv(path + '/train.csv', encoding='utf-8')\n",
    "uplift.head()"
   ]
  },
  {
   "cell_type": "code",
   "execution_count": 19,
   "metadata": {},
   "outputs": [
    {
     "name": "stdout",
     "output_type": "stream",
     "text": [
      "<class 'pandas.core.frame.DataFrame'>\n",
      "RangeIndex: 200039 entries, 0 to 200038\n",
      "Data columns (total 7 columns):\n",
      "client_id            200039 non-null object\n",
      "first_issue_date     200039 non-null object\n",
      "first_redeem_date    182493 non-null object\n",
      "age                  200039 non-null int64\n",
      "gender               200039 non-null object\n",
      "treatment_flg        200039 non-null int64\n",
      "target               200039 non-null int64\n",
      "dtypes: int64(3), object(4)\n",
      "memory usage: 10.7+ MB\n"
     ]
    }
   ],
   "source": [
    "uplift.info()"
   ]
  },
  {
   "cell_type": "code",
   "execution_count": 25,
   "metadata": {},
   "outputs": [
    {
     "data": {
      "text/html": [
       "<div>\n",
       "<style scoped>\n",
       "    .dataframe tbody tr th:only-of-type {\n",
       "        vertical-align: middle;\n",
       "    }\n",
       "\n",
       "    .dataframe tbody tr th {\n",
       "        vertical-align: top;\n",
       "    }\n",
       "\n",
       "    .dataframe thead th {\n",
       "        text-align: right;\n",
       "    }\n",
       "</style>\n",
       "<table border=\"1\" class=\"dataframe\">\n",
       "  <thead>\n",
       "    <tr style=\"text-align: right;\">\n",
       "      <th></th>\n",
       "      <th>client_id</th>\n",
       "      <th>transaction_id</th>\n",
       "      <th>transaction_datetime</th>\n",
       "      <th>regular_points_received</th>\n",
       "      <th>express_points_received</th>\n",
       "      <th>regular_points_spent</th>\n",
       "      <th>express_points_spent</th>\n",
       "      <th>purchase_sum</th>\n",
       "      <th>store_id</th>\n",
       "      <th>product_id</th>\n",
       "      <th>product_quantity</th>\n",
       "      <th>trn_sum_from_iss</th>\n",
       "      <th>trn_sum_from_red</th>\n",
       "    </tr>\n",
       "  </thead>\n",
       "  <tbody>\n",
       "    <tr>\n",
       "      <td>0</td>\n",
       "      <td>000012768d</td>\n",
       "      <td>7e3e2e3984</td>\n",
       "      <td>2018-12-01 07:12:45</td>\n",
       "      <td>10.0</td>\n",
       "      <td>0.0</td>\n",
       "      <td>0.0</td>\n",
       "      <td>0.0</td>\n",
       "      <td>1007.0</td>\n",
       "      <td>54a4a11a29</td>\n",
       "      <td>9a80204f78</td>\n",
       "      <td>2.0</td>\n",
       "      <td>80.0</td>\n",
       "      <td>NaN</td>\n",
       "    </tr>\n",
       "    <tr>\n",
       "      <td>1</td>\n",
       "      <td>000012768d</td>\n",
       "      <td>7e3e2e3984</td>\n",
       "      <td>2018-12-01 07:12:45</td>\n",
       "      <td>10.0</td>\n",
       "      <td>0.0</td>\n",
       "      <td>0.0</td>\n",
       "      <td>0.0</td>\n",
       "      <td>1007.0</td>\n",
       "      <td>54a4a11a29</td>\n",
       "      <td>da89ebd374</td>\n",
       "      <td>1.0</td>\n",
       "      <td>65.0</td>\n",
       "      <td>NaN</td>\n",
       "    </tr>\n",
       "    <tr>\n",
       "      <td>2</td>\n",
       "      <td>000012768d</td>\n",
       "      <td>7e3e2e3984</td>\n",
       "      <td>2018-12-01 07:12:45</td>\n",
       "      <td>10.0</td>\n",
       "      <td>0.0</td>\n",
       "      <td>0.0</td>\n",
       "      <td>0.0</td>\n",
       "      <td>1007.0</td>\n",
       "      <td>54a4a11a29</td>\n",
       "      <td>0a95e1151d</td>\n",
       "      <td>1.0</td>\n",
       "      <td>24.0</td>\n",
       "      <td>NaN</td>\n",
       "    </tr>\n",
       "    <tr>\n",
       "      <td>3</td>\n",
       "      <td>000012768d</td>\n",
       "      <td>7e3e2e3984</td>\n",
       "      <td>2018-12-01 07:12:45</td>\n",
       "      <td>10.0</td>\n",
       "      <td>0.0</td>\n",
       "      <td>0.0</td>\n",
       "      <td>0.0</td>\n",
       "      <td>1007.0</td>\n",
       "      <td>54a4a11a29</td>\n",
       "      <td>4055b15e4a</td>\n",
       "      <td>2.0</td>\n",
       "      <td>50.0</td>\n",
       "      <td>NaN</td>\n",
       "    </tr>\n",
       "    <tr>\n",
       "      <td>4</td>\n",
       "      <td>000012768d</td>\n",
       "      <td>7e3e2e3984</td>\n",
       "      <td>2018-12-01 07:12:45</td>\n",
       "      <td>10.0</td>\n",
       "      <td>0.0</td>\n",
       "      <td>0.0</td>\n",
       "      <td>0.0</td>\n",
       "      <td>1007.0</td>\n",
       "      <td>54a4a11a29</td>\n",
       "      <td>a685f1916b</td>\n",
       "      <td>1.0</td>\n",
       "      <td>22.0</td>\n",
       "      <td>NaN</td>\n",
       "    </tr>\n",
       "  </tbody>\n",
       "</table>\n",
       "</div>"
      ],
      "text/plain": [
       "    client_id transaction_id transaction_datetime  regular_points_received  \\\n",
       "0  000012768d     7e3e2e3984  2018-12-01 07:12:45                     10.0   \n",
       "1  000012768d     7e3e2e3984  2018-12-01 07:12:45                     10.0   \n",
       "2  000012768d     7e3e2e3984  2018-12-01 07:12:45                     10.0   \n",
       "3  000012768d     7e3e2e3984  2018-12-01 07:12:45                     10.0   \n",
       "4  000012768d     7e3e2e3984  2018-12-01 07:12:45                     10.0   \n",
       "\n",
       "   express_points_received  regular_points_spent  express_points_spent  \\\n",
       "0                      0.0                   0.0                   0.0   \n",
       "1                      0.0                   0.0                   0.0   \n",
       "2                      0.0                   0.0                   0.0   \n",
       "3                      0.0                   0.0                   0.0   \n",
       "4                      0.0                   0.0                   0.0   \n",
       "\n",
       "   purchase_sum    store_id  product_id  product_quantity  trn_sum_from_iss  \\\n",
       "0        1007.0  54a4a11a29  9a80204f78               2.0              80.0   \n",
       "1        1007.0  54a4a11a29  da89ebd374               1.0              65.0   \n",
       "2        1007.0  54a4a11a29  0a95e1151d               1.0              24.0   \n",
       "3        1007.0  54a4a11a29  4055b15e4a               2.0              50.0   \n",
       "4        1007.0  54a4a11a29  a685f1916b               1.0              22.0   \n",
       "\n",
       "   trn_sum_from_red  \n",
       "0               NaN  \n",
       "1               NaN  \n",
       "2               NaN  \n",
       "3               NaN  \n",
       "4               NaN  "
      ]
     },
     "execution_count": 25,
     "metadata": {},
     "output_type": "execute_result"
    }
   ],
   "source": [
    "purchases = pd.read_csv(path + '/purchases.csv', encoding='utf-8')\n",
    "purchases.head()"
   ]
  },
  {
   "cell_type": "code",
   "execution_count": 11,
   "metadata": {},
   "outputs": [
    {
     "name": "stdout",
     "output_type": "stream",
     "text": [
      "<class 'pandas.core.frame.DataFrame'>\n",
      "RangeIndex: 45786568 entries, 0 to 45786567\n",
      "Data columns (total 13 columns):\n",
      "client_id                  object\n",
      "transaction_id             object\n",
      "transaction_datetime       object\n",
      "regular_points_received    float64\n",
      "express_points_received    float64\n",
      "regular_points_spent       float64\n",
      "express_points_spent       float64\n",
      "purchase_sum               float64\n",
      "store_id                   object\n",
      "product_id                 object\n",
      "product_quantity           float64\n",
      "trn_sum_from_iss           float64\n",
      "trn_sum_from_red           float64\n",
      "dtypes: float64(8), object(5)\n",
      "memory usage: 4.4+ GB\n"
     ]
    }
   ],
   "source": [
    "purchases.info()"
   ]
  },
  {
   "cell_type": "markdown",
   "metadata": {},
   "source": [
    "Извлечение признаков из временных меток:\n",
    " - месяц\n",
    " - день недели\n",
    " - час"
   ]
  },
  {
   "cell_type": "markdown",
   "metadata": {},
   "source": [
    "Из файла с покупками сделаем такие признаки за всю историю и последние 30 дней: \n",
    "   - общее количество покупок(штуки и суммы)\n",
    "   - количество накопленных баллов\n",
    "   - количество потраченных баллов\n",
    "   - количество уникальных магазинов, где были совершены покупки"
   ]
  },
  {
   "cell_type": "markdown",
   "metadata": {},
   "source": [
    "Добавим описательные статистики:\n",
    " - среднее\n",
    " - стандартное отклонение\n",
    " - квартили\n",
    " - минимумы\n",
    " - максимумы"
   ]
  },
  {
   "cell_type": "markdown",
   "metadata": {},
   "source": [
    "И добавим функциональные зависимости:\n",
    " - полиномы\n",
    " - логарифмы\n",
    " - экспоненты"
   ]
  },
  {
   "cell_type": "markdown",
   "metadata": {},
   "source": [
    "## <left>0. Используемые классы и функции<a class=\"anchor\" id=\"global\"></a><left>"
   ]
  },
  {
   "cell_type": "markdown",
   "metadata": {},
   "source": [
    "Класс для выбора колонки."
   ]
  },
  {
   "cell_type": "code",
   "execution_count": 56,
   "metadata": {},
   "outputs": [],
   "source": [
    "class ColumnSelector(BaseEstimator, TransformerMixin):\n",
    "\n",
    "    def __init__(self, column):\n",
    "        self.column = column\n",
    "\n",
    "    def fit(self, X, y=None):\n",
    "        return self\n",
    "\n",
    "    def transform(self, X):\n",
    "        return X[[self.column]]"
   ]
  },
  {
   "cell_type": "markdown",
   "metadata": {},
   "source": [
    "Класс для преобразования возраста."
   ]
  },
  {
   "cell_type": "code",
   "execution_count": 57,
   "metadata": {},
   "outputs": [],
   "source": [
    "class AgeTransformator(BaseEstimator, TransformerMixin):\n",
    "    \n",
    "    def __init__(self, key, age_min, age_max):\n",
    "        self.key = key\n",
    "        self.age_min = age_min\n",
    "        self.age_max = age_max\n",
    "        \n",
    "    def fit(self, X, y=None):\n",
    "        return self\n",
    "    \n",
    "    def transform(self, X, age_min  = 16, age_max = 80):\n",
    "        X.loc[X[self.key] > self.age_max, self.key] = self.age_max\n",
    "        X.loc[X[self.key] < self.age_min, self.key] = self.age_min\n",
    "        return X"
   ]
  },
  {
   "cell_type": "markdown",
   "metadata": {},
   "source": [
    "Класс для преобразования и извлечения фичей из дат."
   ]
  },
  {
   "cell_type": "code",
   "execution_count": 58,
   "metadata": {},
   "outputs": [],
   "source": [
    "class DateTransformator(BaseEstimator, TransformerMixin):\n",
    "    \n",
    "    def __init__(self, key):\n",
    "        self.key = key\n",
    "        self.columns = []\n",
    "        \n",
    "    def fit(self, X, y=None):\n",
    "        self.columns = [self.key+'_'+'int', self.key+'_'+'month', self.key+'_'+'weekday', self.key+'_'+'hour']\n",
    "        return self\n",
    "    \n",
    "    def transform(self, X):\n",
    "        X[self.key].fillna(uplift[self.key].mode()[0], inplace=True)\n",
    "        X[self.key+'_'+'month'] = X[self.key].dt.month\n",
    "        X[self.key+'_'+'weekday'] = X[self.key].dt.weekday\n",
    "        X[self.key+'_'+'hour'] = X[self.key].dt.hour\n",
    "        X[self.key+'_'+'int'] = X[self.key].astype(np.int64)\n",
    "        return X[self.columns]"
   ]
  },
  {
   "cell_type": "markdown",
   "metadata": {},
   "source": [
    "Функция для создания фичей из purchase."
   ]
  },
  {
   "cell_type": "code",
   "execution_count": 59,
   "metadata": {},
   "outputs": [],
   "source": [
    "def purchase_features(last_cols, df):\n",
    "    all_hist = df.groupby(['client_id','transaction_id'])[last_cols].last()\n",
    "    last_month = df[df['transaction_datetime'] > '2019-02-18'].groupby(['client_id','transaction_id'])[last_cols].last()\n",
    "    \n",
    "    features =  pd.concat([all_hist.groupby('client_id')['purchase_sum'].count(),\n",
    "                       last_month.groupby('client_id')['purchase_sum'].count(),\n",
    "                       all_hist.groupby('client_id').sum(),\n",
    "                       all_hist.groupby('client_id')[['store_id']].nunique(),\n",
    "                       last_month.groupby('client_id').sum(),\n",
    "                       last_month.groupby('client_id')[['store_id']].nunique(),\n",
    "                      ],axis = 1)\n",
    "    features.columns = ['total_trans_count','last_month_trans_count']+list(c+\"_sum_all\" for c in last_cols)+list(c+\"_sum_last_month\" for c in last_cols)\n",
    "    \n",
    "    return features"
   ]
  },
  {
   "cell_type": "markdown",
   "metadata": {},
   "source": [
    "Классы для создания признаков: описательные статистики, функциональные зависимости."
   ]
  },
  {
   "cell_type": "code",
   "execution_count": 60,
   "metadata": {},
   "outputs": [],
   "source": [
    "class FeaturesGenerator(BaseEstimator, TransformerMixin):\n",
    "    \n",
    "    def __init__(self, key, tol: float = 1.01, p=2):\n",
    "        self.key = key\n",
    "        self.tol = tol\n",
    "        self.columns = []\n",
    "        self.p = p\n",
    "    \n",
    "    def fit(self, X, y=None):\n",
    "        self.columns = [self.key+'_'+'max', self.key+'_'+'min', self.key+'_'+'mean',\n",
    "                       self.key+'_'+'std', self.key+'_'+'q1', self.key+'_'+'q2', \n",
    "                       self.key+'_'+'q3', self.key+'_'+'log', self.key+'_'+'exp',\n",
    "                       self.key+'_'+'*2', self.key+'_'+'*3']\n",
    "        return self\n",
    "    \n",
    "    def transform(self, X, tol=1.01, p=2):\n",
    "        X[self.key+'_'+'max'] = X[self.key].max()\n",
    "        X[self.key+'_'+'min'] = X[self.key].min()\n",
    "        X[self.key+'_'+'mean'] = X[self.key].mean()\n",
    "        X[self.key+'_'+'std'] = X[self.key].std()\n",
    "        X[self.key+'_'+'q1'] = X[self.key].quantile([0.25])\n",
    "        X[self.key+'_'+'q2'] = X[self.key].quantile([0.5])\n",
    "        X[self.key+'_'+'q3'] = X[self.key].quantile([0.75])\n",
    "        X[self.key+'_'+'log'] = np.log(X[self.key] + tol) \n",
    "        X[self.key+'_'+'exp'] = np.exp(X[self.key] + tol)\n",
    "        X[self.key+'_'+'*2'] = np.power(X[self.key], p)\n",
    "        X[self.key+'_'+'*3'] = np.power(X[self.key], p+1)\n",
    "        return X[self.columns]"
   ]
  },
  {
   "cell_type": "markdown",
   "metadata": {},
   "source": [
    "Функция для mean target кодирования."
   ]
  },
  {
   "cell_type": "code",
   "execution_count": 61,
   "metadata": {},
   "outputs": [],
   "source": [
    "def mean_target_encoding(train_df, y_train, valid_df):\n",
    "    skf = StratifiedKFold(n_splits=12, shuffle=True, random_state=1)\n",
    "    glob_mean = y_train.mean()\n",
    "    train_df = pd.concat([train_df, pd.Series(y_train, name='y')], axis=1)\n",
    "    new_train_df = train_df.copy()  \n",
    "\n",
    "    for col in cat_features:\n",
    "        new_train_df[col + '_mean_target'] = [glob_mean for _ in range(new_train_df.shape[0])]\n",
    "\n",
    "    for train_idx, valid_idx in skf.split(train_df, y_train):\n",
    "        train_df_cv, valid_df_cv = train_df.iloc[train_idx, :], train_df.iloc[valid_idx, :]\n",
    "\n",
    "        for col in cat_features:\n",
    "            \n",
    "            means = valid_df_cv[col].map(train_df_cv.groupby(col)['y'].mean())\n",
    "            valid_df_cv[col + '_mean_target'] = means.fillna(glob_mean)\n",
    "            \n",
    "        new_train_df.iloc[valid_idx] = valid_df_cv\n",
    "    \n",
    "    new_train_df.drop(cat_features + ['y'], axis=1, inplace=True)\n",
    "    \n",
    "    for col in cat_features:\n",
    "        means = valid_df[col].map(train_df.groupby(col)['y'].mean())\n",
    "        valid_df[col + '_mean_target'] = means.fillna(glob_mean)\n",
    "        \n",
    "    valid_df.drop(train_df.columns[train_df.dtypes == 'object'], axis=1, inplace=True)\n",
    "    \n",
    "    return new_train_df, valid_df"
   ]
  },
  {
   "cell_type": "markdown",
   "metadata": {},
   "source": [
    "Класс для тренировок."
   ]
  },
  {
   "cell_type": "code",
   "execution_count": 62,
   "metadata": {},
   "outputs": [],
   "source": [
    "class ModelTuning:\n",
    "    #оптимизация\n",
    "    def optimize(params,x, y, model):        \n",
    "        pipeline = Pipeline([('features', feats),\n",
    "                            ('classifier', model(**params))])\n",
    "        \n",
    "        kf = StratifiedKFold(n_splits=20, shuffle=True)\n",
    "        cv_scores = cross_val_score(pipeline, x, y, \n",
    "                                    cv=kf, \n",
    "                                    scoring='roc_auc')\n",
    "\n",
    "        return np.mean(cv_scores)\n",
    "\n",
    "    def tune(x, y, model):\n",
    "        trials = Trials()\n",
    "        best_params = fmin(fn=partial(ModelTuning.optimize, x=x, y=y, model=model),\n",
    "                    space=space_freq, trials=trials, algo=tpe.suggest, max_evals=15)\n",
    "\n",
    "        return best_params\n",
    "    \n",
    "    # Построение модели с ранней остановкой (early stopping)\n",
    "    def get_predictions(best_params, train_params, train, y, valid, model):\n",
    "        \n",
    "        pipeline = Pipeline([('features', feats),\n",
    "                            ('classifier', model(params=best_params, \n",
    "                                                 **train_params,\n",
    "                                                 early_stopping_rounds=20))])\n",
    "    \n",
    "        pipeline.fit(X=train, y=y)\n",
    "        preds = pipeline.predict(valid)\n",
    "        return preds\n",
    "\n",
    "\n",
    "    #Визуализация Roc-Auc\n",
    "    def roc_auc_plot(y_test, preds):\n",
    "        sns.set(font_scale=1.5)\n",
    "        sns.set_color_codes(\"muted\")\n",
    "\n",
    "        plt.figure(figsize=(10, 8))\n",
    "        fpr, tpr, thresholds_ = roc_curve(y_test, preds, pos_label=1)\n",
    "        lw = 2\n",
    "        plt.plot(fpr, tpr, lw=lw, label='ROC curve')\n",
    "        plt.plot([0, 1], [0, 1])\n",
    "        plt.xlim([0.0, 1.0])\n",
    "        plt.ylim([0.0, 1.05])\n",
    "        plt.xlabel('False Positive Rate')\n",
    "        plt.ylabel('True Positive Rate')\n",
    "        plt.title('ROC curve')\n",
    "        plt.legend(loc='best')\n",
    "        plt.show()\n",
    "\n",
    "    #численная оценка roc-auc\n",
    "    def grade(y_test, preds):\n",
    "        score = roc_auc_score(y_test, preds)\n",
    "        return score\n",
    "    \n",
    "    #функция для двух независимых моделей\n",
    "    def two_models(best_params, train_params, model, train, y_train, treat_train, valid, y_valid, k, strategy):\n",
    "        pipeline = Pipeline([('features', feats),\n",
    "                            ('classifier', model(params=best_params, \n",
    "                                                 **train_params,\n",
    "                                                 early_stopping_rounds=20))])\n",
    "                \n",
    "        pipeline1 = Pipeline([('features', feats),\n",
    "                            ('classifier', model(params=best_params, \n",
    "                                                 **train_params,\n",
    "                                                 early_stopping_rounds=20))])\n",
    "        \n",
    "        tm = TwoModels(estimator_trmnt=pipeline, estimator_ctrl=pipeline1)\n",
    "\n",
    "        tm = tm.fit(train, y_train, treat_train)\n",
    "        uplift_tm = tm.predict(valid)\n",
    "        tm_score_30 = uplift_at_k(y_true=y_valid, uplift=uplift_tm, treatment=treat_valid, strategy=strategy, k=k)\n",
    "    \n",
    "        return tm_score_30"
   ]
  },
  {
   "cell_type": "markdown",
   "metadata": {},
   "source": [
    "## <left>1. Feature engineering. Часть 1<a class=\"anchor\" id=\"fe1\"></a><left>"
   ]
  },
  {
   "cell_type": "markdown",
   "metadata": {},
   "source": [
    "Начнём с создания фичей из purchase. Заджойним и будем работать с новым датасетом."
   ]
  },
  {
   "cell_type": "code",
   "execution_count": 31,
   "metadata": {},
   "outputs": [],
   "source": [
    "last_cols = ['regular_points_received', 'express_points_received','regular_points_spent', 'express_points_spent', 'purchase_sum','store_id',\n",
    "            'product_quantity']"
   ]
  },
  {
   "cell_type": "code",
   "execution_count": 32,
   "metadata": {},
   "outputs": [],
   "source": [
    "features = purchase_features(last_cols=last_cols,\n",
    "                 df=purchases)"
   ]
  },
  {
   "cell_type": "code",
   "execution_count": 33,
   "metadata": {},
   "outputs": [],
   "source": [
    "uplift = uplift.join(features, on='client_id')\n",
    "uplift.to_csv(path + '/uplift_features.csv', index=False, encoding='utf-8')"
   ]
  },
  {
   "cell_type": "code",
<<<<<<< HEAD
   "execution_count": 148,
=======
   "execution_count": 116,
>>>>>>> 57e024300a961d811d3706c0f2f183877608ff1c
   "metadata": {},
   "outputs": [
    {
     "data": {
      "text/html": [
       "<div>\n",
       "<style scoped>\n",
       "    .dataframe tbody tr th:only-of-type {\n",
       "        vertical-align: middle;\n",
       "    }\n",
       "\n",
       "    .dataframe tbody tr th {\n",
       "        vertical-align: top;\n",
       "    }\n",
       "\n",
       "    .dataframe thead th {\n",
       "        text-align: right;\n",
       "    }\n",
       "</style>\n",
       "<table border=\"1\" class=\"dataframe\">\n",
       "  <thead>\n",
       "    <tr style=\"text-align: right;\">\n",
       "      <th></th>\n",
       "      <th>first_issue_date</th>\n",
       "      <th>first_redeem_date</th>\n",
       "      <th>age</th>\n",
       "      <th>gender</th>\n",
       "      <th>treatment_flg</th>\n",
       "      <th>target</th>\n",
       "      <th>total_trans_count</th>\n",
       "      <th>last_month_trans_count</th>\n",
       "      <th>regular_points_received_sum_all</th>\n",
       "      <th>express_points_received_sum_all</th>\n",
       "      <th>...</th>\n",
       "      <th>purchase_sum_sum_all</th>\n",
       "      <th>store_id_sum_all</th>\n",
       "      <th>product_quantity_sum_all</th>\n",
       "      <th>regular_points_received_sum_last_month</th>\n",
       "      <th>express_points_received_sum_last_month</th>\n",
       "      <th>regular_points_spent_sum_last_month</th>\n",
       "      <th>express_points_spent_sum_last_month</th>\n",
       "      <th>purchase_sum_sum_last_month</th>\n",
       "      <th>store_id_sum_last_month</th>\n",
       "      <th>product_quantity_sum_last_month</th>\n",
       "    </tr>\n",
       "    <tr>\n",
       "      <th>client_id</th>\n",
       "      <th></th>\n",
       "      <th></th>\n",
       "      <th></th>\n",
       "      <th></th>\n",
       "      <th></th>\n",
       "      <th></th>\n",
       "      <th></th>\n",
       "      <th></th>\n",
       "      <th></th>\n",
       "      <th></th>\n",
       "      <th></th>\n",
       "      <th></th>\n",
       "      <th></th>\n",
       "      <th></th>\n",
       "      <th></th>\n",
       "      <th></th>\n",
       "      <th></th>\n",
       "      <th></th>\n",
       "      <th></th>\n",
       "      <th></th>\n",
       "      <th></th>\n",
       "    </tr>\n",
       "  </thead>\n",
       "  <tbody>\n",
       "    <tr>\n",
       "      <td>000012768d</td>\n",
       "      <td>2017-08-05 15:40:48</td>\n",
       "      <td>2018-01-04 19:30:07</td>\n",
       "      <td>45</td>\n",
       "      <td>U</td>\n",
       "      <td>0</td>\n",
       "      <td>1</td>\n",
       "      <td>4</td>\n",
       "      <td>2</td>\n",
       "      <td>25.7</td>\n",
       "      <td>0.0</td>\n",
       "      <td>...</td>\n",
       "      <td>2803.00</td>\n",
       "      <td>4.0</td>\n",
       "      <td>3</td>\n",
       "      <td>10.0</td>\n",
       "      <td>0.0</td>\n",
       "      <td>0.0</td>\n",
       "      <td>0.0</td>\n",
       "      <td>1222.00</td>\n",
       "      <td>2.0</td>\n",
       "      <td>1</td>\n",
       "    </tr>\n",
       "    <tr>\n",
       "      <td>000036f903</td>\n",
       "      <td>2017-04-10 13:54:23</td>\n",
       "      <td>2017-04-23 12:37:56</td>\n",
       "      <td>72</td>\n",
       "      <td>F</td>\n",
       "      <td>1</td>\n",
       "      <td>1</td>\n",
       "      <td>32</td>\n",
       "      <td>8</td>\n",
       "      <td>54.9</td>\n",
       "      <td>60.0</td>\n",
       "      <td>...</td>\n",
       "      <td>9805.00</td>\n",
       "      <td>32.0</td>\n",
       "      <td>5</td>\n",
       "      <td>13.7</td>\n",
       "      <td>0.0</td>\n",
       "      <td>0.0</td>\n",
       "      <td>0.0</td>\n",
       "      <td>2784.00</td>\n",
       "      <td>8.0</td>\n",
       "      <td>4</td>\n",
       "    </tr>\n",
       "    <tr>\n",
       "      <td>00010925a5</td>\n",
       "      <td>2018-07-24 16:21:29</td>\n",
       "      <td>2018-09-14 16:12:49</td>\n",
       "      <td>83</td>\n",
       "      <td>U</td>\n",
       "      <td>1</td>\n",
       "      <td>1</td>\n",
       "      <td>18</td>\n",
       "      <td>8</td>\n",
       "      <td>31.8</td>\n",
       "      <td>0.0</td>\n",
       "      <td>...</td>\n",
       "      <td>5883.00</td>\n",
       "      <td>17.0</td>\n",
       "      <td>2</td>\n",
       "      <td>13.9</td>\n",
       "      <td>0.0</td>\n",
       "      <td>0.0</td>\n",
       "      <td>0.0</td>\n",
       "      <td>2858.00</td>\n",
       "      <td>8.0</td>\n",
       "      <td>2</td>\n",
       "    </tr>\n",
       "    <tr>\n",
       "      <td>0001f552b0</td>\n",
       "      <td>2017-06-30 19:20:38</td>\n",
       "      <td>2018-08-28 12:59:45</td>\n",
       "      <td>33</td>\n",
       "      <td>F</td>\n",
       "      <td>1</td>\n",
       "      <td>1</td>\n",
       "      <td>15</td>\n",
       "      <td>7</td>\n",
       "      <td>78.9</td>\n",
       "      <td>0.0</td>\n",
       "      <td>...</td>\n",
       "      <td>6155.18</td>\n",
       "      <td>15.0</td>\n",
       "      <td>4</td>\n",
       "      <td>47.0</td>\n",
       "      <td>0.0</td>\n",
       "      <td>0.0</td>\n",
       "      <td>0.0</td>\n",
       "      <td>2211.37</td>\n",
       "      <td>6.0</td>\n",
       "      <td>2</td>\n",
       "    </tr>\n",
       "    <tr>\n",
       "      <td>00020e7b18</td>\n",
       "      <td>2017-11-27 11:41:45</td>\n",
       "      <td>2018-01-10 17:50:05</td>\n",
       "      <td>73</td>\n",
       "      <td>U</td>\n",
       "      <td>1</td>\n",
       "      <td>1</td>\n",
       "      <td>18</td>\n",
       "      <td>5</td>\n",
       "      <td>286.1</td>\n",
       "      <td>0.0</td>\n",
       "      <td>...</td>\n",
       "      <td>25819.61</td>\n",
       "      <td>27.0</td>\n",
       "      <td>4</td>\n",
       "      <td>58.4</td>\n",
       "      <td>0.0</td>\n",
       "      <td>-76.0</td>\n",
       "      <td>-10.0</td>\n",
       "      <td>6096.27</td>\n",
       "      <td>7.0</td>\n",
       "      <td>1</td>\n",
       "    </tr>\n",
       "  </tbody>\n",
       "</table>\n",
       "<p>5 rows × 22 columns</p>\n",
       "</div>"
      ],
      "text/plain": [
       "              first_issue_date   first_redeem_date  age gender  treatment_flg  \\\n",
       "client_id                                                                       \n",
       "000012768d 2017-08-05 15:40:48 2018-01-04 19:30:07   45      U              0   \n",
       "000036f903 2017-04-10 13:54:23 2017-04-23 12:37:56   72      F              1   \n",
       "00010925a5 2018-07-24 16:21:29 2018-09-14 16:12:49   83      U              1   \n",
       "0001f552b0 2017-06-30 19:20:38 2018-08-28 12:59:45   33      F              1   \n",
       "00020e7b18 2017-11-27 11:41:45 2018-01-10 17:50:05   73      U              1   \n",
       "\n",
       "            target  total_trans_count  last_month_trans_count  \\\n",
       "client_id                                                       \n",
       "000012768d       1                  4                       2   \n",
       "000036f903       1                 32                       8   \n",
       "00010925a5       1                 18                       8   \n",
       "0001f552b0       1                 15                       7   \n",
       "00020e7b18       1                 18                       5   \n",
       "\n",
       "            regular_points_received_sum_all  express_points_received_sum_all  \\\n",
       "client_id                                                                      \n",
       "000012768d                             25.7                              0.0   \n",
       "000036f903                             54.9                             60.0   \n",
       "00010925a5                             31.8                              0.0   \n",
       "0001f552b0                             78.9                              0.0   \n",
       "00020e7b18                            286.1                              0.0   \n",
       "\n",
       "            ...  purchase_sum_sum_all  store_id_sum_all  \\\n",
       "client_id   ...                                           \n",
       "000012768d  ...               2803.00               4.0   \n",
       "000036f903  ...               9805.00              32.0   \n",
       "00010925a5  ...               5883.00              17.0   \n",
       "0001f552b0  ...               6155.18              15.0   \n",
       "00020e7b18  ...              25819.61              27.0   \n",
       "\n",
       "            product_quantity_sum_all  regular_points_received_sum_last_month  \\\n",
       "client_id                                                                      \n",
       "000012768d                         3                                    10.0   \n",
       "000036f903                         5                                    13.7   \n",
       "00010925a5                         2                                    13.9   \n",
       "0001f552b0                         4                                    47.0   \n",
       "00020e7b18                         4                                    58.4   \n",
       "\n",
       "            express_points_received_sum_last_month  \\\n",
       "client_id                                            \n",
       "000012768d                                     0.0   \n",
       "000036f903                                     0.0   \n",
       "00010925a5                                     0.0   \n",
       "0001f552b0                                     0.0   \n",
       "00020e7b18                                     0.0   \n",
       "\n",
       "            regular_points_spent_sum_last_month  \\\n",
       "client_id                                         \n",
       "000012768d                                  0.0   \n",
       "000036f903                                  0.0   \n",
       "00010925a5                                  0.0   \n",
       "0001f552b0                                  0.0   \n",
       "00020e7b18                                -76.0   \n",
       "\n",
       "            express_points_spent_sum_last_month  purchase_sum_sum_last_month  \\\n",
       "client_id                                                                      \n",
       "000012768d                                  0.0                      1222.00   \n",
       "000036f903                                  0.0                      2784.00   \n",
       "00010925a5                                  0.0                      2858.00   \n",
       "0001f552b0                                  0.0                      2211.37   \n",
       "00020e7b18                                -10.0                      6096.27   \n",
       "\n",
       "            store_id_sum_last_month  product_quantity_sum_last_month  \n",
       "client_id                                                             \n",
       "000012768d                      2.0                                1  \n",
       "000036f903                      8.0                                4  \n",
       "00010925a5                      8.0                                2  \n",
       "0001f552b0                      6.0                                2  \n",
       "00020e7b18                      7.0                                1  \n",
       "\n",
       "[5 rows x 22 columns]"
      ]
     },
<<<<<<< HEAD
     "execution_count": 148,
=======
     "execution_count": 116,
>>>>>>> 57e024300a961d811d3706c0f2f183877608ff1c
     "metadata": {},
     "output_type": "execute_result"
    }
   ],
   "source": [
    "uplift = pd.read_csv(path + '/uplift_features.csv', index_col='client_id', parse_dates=['first_issue_date', 'first_redeem_date'])\n",
    "uplift.head()"
   ]
  },
  {
   "cell_type": "markdown",
   "metadata": {},
   "source": [
    "Для начала поработаем с новыми фичами из purchases, извлечём фичи из времени, обработаем возраст и создадим парный признак \n",
    "пол-возраст. После закодируем категориальные переменные."
   ]
  },
  {
   "cell_type": "code",
<<<<<<< HEAD
   "execution_count": 149,
=======
   "execution_count": 64,
>>>>>>> 57e024300a961d811d3706c0f2f183877608ff1c
   "metadata": {},
   "outputs": [],
   "source": [
    "dates = ['first_issue_date', 'first_redeem_date']\n",
    "cat_features = uplift.columns[uplift.dtypes == 'object'].tolist()\n",
    "num_features = uplift.columns[uplift.dtypes == 'int64'].tolist() + uplift.columns[uplift.dtypes == 'float64'].tolist()\n",
    "num_features.remove('treatment_flg')\n",
    "num_features.remove('target')\n",
    "num_features.remove('age')"
   ]
  },
  {
   "cell_type": "code",
<<<<<<< HEAD
   "execution_count": 150,
=======
   "execution_count": 65,
>>>>>>> 57e024300a961d811d3706c0f2f183877608ff1c
   "metadata": {},
   "outputs": [],
   "source": [
    "uplift['first_redeem_date'].fillna(uplift['first_redeem_date'].mode()[0], inplace=True)"
   ]
  },
  {
   "cell_type": "code",
<<<<<<< HEAD
   "execution_count": 151,
=======
   "execution_count": 104,
>>>>>>> 57e024300a961d811d3706c0f2f183877608ff1c
   "metadata": {},
   "outputs": [],
   "source": [
    "index_train, index_valid = train_test_split(uplift.index, test_size=0.3, random_state=43)\n",
    "\n",
    "X_train = uplift.loc[index_train, :].drop(['target', 'treatment_flg'], 1)\n",
    "y_train = uplift.loc[index_train, 'target']\n",
    "treat_train = uplift.loc[index_train, 'treatment_flg']\n",
    "\n",
    "X_valid = uplift.loc[index_valid, :].drop(['target', 'treatment_flg'], 1)\n",
    "y_valid = uplift.loc[index_valid, 'target']\n",
    "treat_valid = uplift.loc[index_valid, 'treatment_flg']"
   ]
  },
  {
   "cell_type": "code",
<<<<<<< HEAD
   "execution_count": 152,
=======
   "execution_count": 67,
>>>>>>> 57e024300a961d811d3706c0f2f183877608ff1c
   "metadata": {},
   "outputs": [],
   "source": [
    "train_mean_target_part, valid_mean_target = mean_target_encoding(X_train, y_train, X_valid)"
   ]
  },
  {
   "cell_type": "code",
<<<<<<< HEAD
   "execution_count": 153,
=======
   "execution_count": 68,
>>>>>>> 57e024300a961d811d3706c0f2f183877608ff1c
   "metadata": {},
   "outputs": [],
   "source": [
    "num_features.append('gender_mean_target')"
   ]
  },
  {
   "cell_type": "code",
<<<<<<< HEAD
   "execution_count": 154,
=======
   "execution_count": 69,
>>>>>>> 57e024300a961d811d3706c0f2f183877608ff1c
   "metadata": {},
   "outputs": [],
   "source": [
    "ages = ['age']"
   ]
  },
  {
   "cell_type": "code",
<<<<<<< HEAD
   "execution_count": 155,
=======
   "execution_count": 70,
>>>>>>> 57e024300a961d811d3706c0f2f183877608ff1c
   "metadata": {},
   "outputs": [],
   "source": [
    "final_transformers = []\n",
    "\n",
    "for age in ages:\n",
    "    process_age = Pipeline([('selector', ColumnSelector(column='age')),\n",
    "                ('process_age', AgeTransformator(key='age', age_min = 16, age_max = 80))\n",
    "               ])\n",
    "    \n",
    "    final_transformers.append((age, process_age))\n",
    "\n",
    "for date in dates:\n",
    "    prepare_date = Pipeline([\n",
    "        ('selector', ColumnSelector(column=date)),\n",
    "        ('transformer', DateTransformator(key=date))\n",
    "        ])\n",
    "    \n",
    "    final_transformers.append((date, prepare_date))\n",
    "    \n",
    "for feature in num_features:\n",
    "    num_selector = Pipeline([\n",
    "                ('selector', ColumnSelector(column=feature))\n",
    "    ])\n",
    "    \n",
    "    final_transformers.append((feature, num_selector))"
   ]
  },
  {
   "cell_type": "code",
<<<<<<< HEAD
   "execution_count": 156,
=======
   "execution_count": 71,
>>>>>>> 57e024300a961d811d3706c0f2f183877608ff1c
   "metadata": {},
   "outputs": [
    {
     "data": {
      "text/plain": [
       "array([[4.60000000e+01, 1.52252139e+18, 3.00000000e+00, ...,\n",
       "        3.62018000e+03, 9.00000000e+00, 6.40567535e-01],\n",
       "       [4.90000000e+01, 1.50074818e+18, 7.00000000e+00, ...,\n",
       "        2.53161000e+03, 1.60000000e+01, 6.40567535e-01],\n",
       "       [3.40000000e+01, 1.54504250e+18, 1.20000000e+01, ...,\n",
       "        1.20563000e+03, 4.00000000e+00, 6.03477242e-01],\n",
       "       ...,\n",
       "       [4.50000000e+01, 1.50289970e+18, 8.00000000e+00, ...,\n",
       "        6.83890000e+02, 1.00000000e+00, 6.03477242e-01],\n",
       "       [3.60000000e+01, 1.50256528e+18, 8.00000000e+00, ...,\n",
       "        6.50342000e+03, 6.00000000e+00, 6.03477242e-01],\n",
       "       [5.70000000e+01, 1.50861288e+18, 1.00000000e+01, ...,\n",
       "        1.72949000e+03, 8.00000000e+00, 6.40567535e-01]])"
      ]
     },
<<<<<<< HEAD
     "execution_count": 156,
=======
     "execution_count": 71,
>>>>>>> 57e024300a961d811d3706c0f2f183877608ff1c
     "metadata": {},
     "output_type": "execute_result"
    }
   ],
   "source": [
    "feats = FeatureUnion(final_transformers)\n",
    "feature_processing = Pipeline([('feats', feats)])\n",
    "feature_processing.fit_transform(train_mean_target_part)\n",
    "feature_processing.fit_transform(valid_mean_target)"
   ]
  },
  {
   "cell_type": "code",
<<<<<<< HEAD
   "execution_count": 193,
   "metadata": {},
   "outputs": [],
   "source": [
    "with open(\"feature_processing.dill\", \"wb\") as f:\n",
    "    dill.dump(feature_processing, f)"
=======
   "execution_count": 120,
   "metadata": {},
   "outputs": [],
   "source": [
    "estimator = xgb.XGBClassifier({'alpha': 0.8620819140940168,\n",
    "                               'colsample_bytree': 0.9015704847278612,\n",
    "                                'eta': 0.6922939563008799,\n",
    "                                'lambda': 0.3049642099255053,\n",
    "                                'max_depth': 11,\n",
    "                                'min_child_weight': 23.88573150690095,\n",
    "                                'objective': 'binary:logistic',\n",
    "                                'subsample': 0.6433010969964947,\n",
    "                                'tree_method': 'hist',\n",
    "                                'num_boost_round': 600,\n",
    "                                'maximize': False,\n",
    "                                'verbose_eval': False})"
   ]
  },
  {
   "cell_type": "code",
   "execution_count": 121,
   "metadata": {},
   "outputs": [],
   "source": [
    "estimator1 = xgb.XGBClassifier({'alpha': 0.8620819140940168,\n",
    "                               'colsample_bytree': 0.9015704847278612,\n",
    "                                'eta': 0.6922939563008799,\n",
    "                                'lambda': 0.3049642099255053,\n",
    "                                'max_depth': 11,\n",
    "                                'min_child_weight': 23.88573150690095,\n",
    "                                'objective': 'binary:logistic',\n",
    "                                'subsample': 0.6433010969964947,\n",
    "                                'tree_method': 'hist',\n",
    "                                'num_boost_round': 600,\n",
    "                                'maximize': False,\n",
    "                                'verbose_eval': False})"
   ]
  },
  {
   "cell_type": "code",
   "execution_count": 122,
   "metadata": {},
   "outputs": [],
   "source": [
    "tm = TwoModels(estimator_trmnt=estimator, estimator_ctrl=estimator1)"
   ]
  },
  {
   "cell_type": "code",
   "execution_count": 123,
   "metadata": {},
   "outputs": [],
   "source": [
    "final = Pipeline([('features', feats),\n",
    "                 ('uplift', tm)])"
   ]
  },
  {
   "cell_type": "code",
   "execution_count": 124,
   "metadata": {},
   "outputs": [
    {
     "ename": "TypeError",
     "evalue": "fit() takes from 2 to 3 positional arguments but 4 were given",
     "output_type": "error",
     "traceback": [
      "\u001b[1;31m---------------------------------------------------------------------------\u001b[0m",
      "\u001b[1;31mTypeError\u001b[0m                                 Traceback (most recent call last)",
      "\u001b[1;32m<ipython-input-124-f945d1ec609c>\u001b[0m in \u001b[0;36m<module>\u001b[1;34m\u001b[0m\n\u001b[1;32m----> 1\u001b[1;33m \u001b[0mpipeline\u001b[0m \u001b[1;33m=\u001b[0m \u001b[0mfinal\u001b[0m\u001b[1;33m.\u001b[0m\u001b[0mfit\u001b[0m\u001b[1;33m(\u001b[0m\u001b[0mtrain_mean_target_part\u001b[0m\u001b[1;33m,\u001b[0m \u001b[0my_train\u001b[0m\u001b[1;33m,\u001b[0m \u001b[0mtreat_train\u001b[0m\u001b[1;33m)\u001b[0m\u001b[1;33m\u001b[0m\u001b[1;33m\u001b[0m\u001b[0m\n\u001b[0m",
      "\u001b[1;31mTypeError\u001b[0m: fit() takes from 2 to 3 positional arguments but 4 were given"
     ]
    }
   ],
   "source": [
    "pipeline = final.fit(train_mean_target_part, y_train, treat_train)"
   ]
  },
  {
   "cell_type": "code",
   "execution_count": 112,
   "metadata": {},
   "outputs": [],
   "source": [
    "import dill"
   ]
  },
  {
   "cell_type": "code",
   "execution_count": 113,
   "metadata": {},
   "outputs": [],
   "source": [
    "with open(\"uplift_pipeline.dill\", \"wb\") as f:\n",
    "    dill.dump(final, f)"
>>>>>>> 57e024300a961d811d3706c0f2f183877608ff1c
   ]
  },
  {
   "cell_type": "markdown",
   "metadata": {},
   "source": [
    "Посмотрим на распределения вещественных признаков."
   ]
  },
  {
   "cell_type": "code",
   "execution_count": 188,
   "metadata": {},
   "outputs": [
    {
     "data": {
      "image/png": "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\n",
      "text/plain": [
       "<Figure size 432x288 with 1 Axes>"
      ]
     },
     "metadata": {
      "needs_background": "light"
     },
     "output_type": "display_data"
    },
    {
     "data": {
      "image/png": "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\n",
      "text/plain": [
       "<Figure size 432x288 with 1 Axes>"
      ]
     },
     "metadata": {
      "needs_background": "light"
     },
     "output_type": "display_data"
    },
    {
     "data": {
      "image/png": "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\n",
      "text/plain": [
       "<Figure size 432x288 with 1 Axes>"
      ]
     },
     "metadata": {
      "needs_background": "light"
     },
     "output_type": "display_data"
    },
    {
     "data": {
      "image/png": "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\n",
      "text/plain": [
       "<Figure size 432x288 with 1 Axes>"
      ]
     },
     "metadata": {
      "needs_background": "light"
     },
     "output_type": "display_data"
    },
    {
     "data": {
      "image/png": "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\n",
      "text/plain": [
       "<Figure size 432x288 with 1 Axes>"
      ]
     },
     "metadata": {
      "needs_background": "light"
     },
     "output_type": "display_data"
    },
    {
     "data": {
      "image/png": "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\n",
      "text/plain": [
       "<Figure size 432x288 with 1 Axes>"
      ]
     },
     "metadata": {
      "needs_background": "light"
     },
     "output_type": "display_data"
    },
    {
     "data": {
      "image/png": "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\n",
      "text/plain": [
       "<Figure size 432x288 with 1 Axes>"
      ]
     },
     "metadata": {
      "needs_background": "light"
     },
     "output_type": "display_data"
    },
    {
     "data": {
      "image/png": "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\n",
      "text/plain": [
       "<Figure size 432x288 with 1 Axes>"
      ]
     },
     "metadata": {
      "needs_background": "light"
     },
     "output_type": "display_data"
    },
    {
     "data": {
      "image/png": "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\n",
      "text/plain": [
       "<Figure size 432x288 with 1 Axes>"
      ]
     },
     "metadata": {
      "needs_background": "light"
     },
     "output_type": "display_data"
    },
    {
     "data": {
      "image/png": "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\n",
      "text/plain": [
       "<Figure size 432x288 with 1 Axes>"
      ]
     },
     "metadata": {
      "needs_background": "light"
     },
     "output_type": "display_data"
    },
    {
     "data": {
      "image/png": "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\n",
      "text/plain": [
       "<Figure size 432x288 with 1 Axes>"
      ]
     },
     "metadata": {
      "needs_background": "light"
     },
     "output_type": "display_data"
    },
    {
     "data": {
      "image/png": "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\n",
      "text/plain": [
       "<Figure size 432x288 with 1 Axes>"
      ]
     },
     "metadata": {
      "needs_background": "light"
     },
     "output_type": "display_data"
    },
    {
     "data": {
      "image/png": "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\n",
      "text/plain": [
       "<Figure size 432x288 with 1 Axes>"
      ]
     },
     "metadata": {
      "needs_background": "light"
     },
     "output_type": "display_data"
    },
    {
     "data": {
      "image/png": "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\n",
      "text/plain": [
       "<Figure size 432x288 with 1 Axes>"
      ]
     },
     "metadata": {
      "needs_background": "light"
     },
     "output_type": "display_data"
    },
    {
     "data": {
      "image/png": "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\n",
      "text/plain": [
       "<Figure size 432x288 with 1 Axes>"
      ]
     },
     "metadata": {
      "needs_background": "light"
     },
     "output_type": "display_data"
    },
    {
     "data": {
      "image/png": "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\n",
      "text/plain": [
       "<Figure size 432x288 with 1 Axes>"
      ]
     },
     "metadata": {
      "needs_background": "light"
     },
     "output_type": "display_data"
    },
    {
     "data": {
      "image/png": "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\n",
      "text/plain": [
       "<Figure size 432x288 with 1 Axes>"
      ]
     },
     "metadata": {
      "needs_background": "light"
     },
     "output_type": "display_data"
    }
   ],
   "source": [
    "for i in train_mean_target_part[num_features]:\n",
    "        sns.kdeplot(train_mean_target_part.loc[y_train == 1,i], label = '1 train')\n",
    "        sns.kdeplot(train_mean_target_part.loc[y_train == 0,i], label ='0 train')\n",
    "        \n",
    "        sns.kdeplot(valid_mean_target.loc[y_valid == 1,i], label = '1 val')\n",
    "        sns.kdeplot(valid_mean_target.loc[y_valid == 0,i], label =  '0 val')\n",
    "\n",
    "        plt.title(i)\n",
    "        plt.legend()\n",
    "        plt.show()  "
   ]
  },
  {
   "cell_type": "markdown",
   "metadata": {},
   "source": [
    "Для довольно большого числа признаков распределение между трэйном и тестом оставляет желать лучшего."
   ]
  },
  {
   "cell_type": "markdown",
   "metadata": {},
   "source": [
    "Приступим к тренировке."
   ]
  },
  {
   "cell_type": "code",
   "execution_count": 93,
   "metadata": {},
   "outputs": [],
   "source": [
    "#пространство поиска\n",
    "space_freq = {\n",
    "              'objective': 'binary:logistic',\n",
    "              'max_depth': scope.int(hp.quniform('max_depth', 5, 11, 1)),\n",
    "              'min_child_weight': hp.uniform('min_child_weight', 0, 50),\n",
    "              'subsample': hp.uniform('subsample', 0.5, 1),\n",
    "              'colsample_bytree': hp.uniform('colsample_bytree', 0.5, 1),\n",
    "              'alpha': hp.uniform('alpha', 0, 1),\n",
    "              'lambda': hp.uniform('lambda', 0, 1),\n",
    "              'eta': hp.uniform('eta', 0.01, 1),\n",
    "              'tree_method': 'hist'\n",
    "              }\n",
    "    \n",
    "train_params = {\n",
    "                'num_boost_round': 600,\n",
    "                'maximize': False,\n",
    "                'verbose_eval': False}"
   ]
  },
  {
   "cell_type": "code",
   "execution_count": 144,
   "metadata": {},
   "outputs": [
    {
     "name": "stdout",
     "output_type": "stream",
     "text": [
      "100%|████████████████████████████████████████████████| 15/15 [37:40<00:00, 150.68s/trial, best loss: 0.772149439049466]\n"
     ]
    }
   ],
   "source": [
    "best_params = ModelTuning.tune(x=train_mean_target_part,\n",
    "                              y=y_train,\n",
    "                              model=xgb.XGBClassifier)"
   ]
  },
  {
   "cell_type": "code",
   "execution_count": 147,
   "metadata": {},
   "outputs": [
    {
     "data": {
      "text/plain": [
       "{'alpha': 0.8620819140940168,\n",
       " 'colsample_bytree': 0.9015704847278612,\n",
       " 'eta': 0.6922939563008799,\n",
       " 'lambda': 0.3049642099255053,\n",
       " 'max_depth': 11,\n",
       " 'min_child_weight': 23.88573150690095,\n",
       " 'objective': 'binary:logistic',\n",
       " 'subsample': 0.6433010969964947,\n",
       " 'tree_method': 'hist'}"
      ]
     },
     "execution_count": 147,
     "metadata": {},
     "output_type": "execute_result"
    }
   ],
   "source": [
    "best_params = space_eval(space_freq, best_params)\n",
    "best_params"
   ]
  },
  {
   "cell_type": "markdown",
   "metadata": {},
   "source": [
    "Величина максимальной глубины находится на границе поиска."
   ]
  },
  {
   "cell_type": "code",
   "execution_count": 161,
   "metadata": {},
   "outputs": [],
   "source": [
    "preds = ModelTuning.get_predictions(best_params=best_params, \n",
    "                        train_params=train_params, \n",
    "                        train=train_mean_target_part, \n",
    "                        y=y_train, \n",
    "                        valid=valid_mean_target, \n",
    "                        model=xgb.XGBClassifier)"
   ]
  },
  {
   "cell_type": "code",
   "execution_count": 164,
   "metadata": {},
   "outputs": [
    {
     "data": {
      "image/png": "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\n",
      "text/plain": [
       "<Figure size 720x576 with 1 Axes>"
      ]
     },
     "metadata": {},
     "output_type": "display_data"
    }
   ],
   "source": [
    "ModelTuning.roc_auc_plot(y_test = y_valid,\n",
    "                        preds=preds)"
   ]
  },
  {
   "cell_type": "code",
   "execution_count": 166,
   "metadata": {},
   "outputs": [
    {
     "name": "stdout",
     "output_type": "stream",
     "text": [
      "0.6896976779148504\n"
     ]
    }
   ],
   "source": [
    "print(ModelTuning.grade(y_test = y_valid,\n",
    "                        preds=preds))"
   ]
  },
  {
   "cell_type": "code",
   "execution_count": 183,
   "metadata": {},
   "outputs": [
    {
     "data": {
      "text/plain": [
       "0.07914089289399195"
      ]
     },
     "execution_count": 183,
     "metadata": {},
     "output_type": "execute_result"
    }
   ],
   "source": [
    "ModelTuning.two_models(best_params = best_params, \n",
    "                       train_params = train_params, \n",
    "                       model = xgb.XGBClassifier, \n",
    "                       train = train_mean_target_part, \n",
    "                       y_train = y_train, \n",
    "                       treat_train = treat_train, \n",
    "                       valid=valid_mean_target,\n",
    "                       y_valid = y_valid, \n",
    "                       k=0.3, \n",
    "                       strategy='by_group')"
   ]
  },
  {
   "cell_type": "markdown",
   "metadata": {},
   "source": [
    "По сравнению с бэйзлайном ROC AUC вырос на 0.08 п.п., а условная вероятность uplift выросла на 0.004 п.п."
   ]
  },
  {
   "cell_type": "markdown",
   "metadata": {},
   "source": [
    "Сохраним."
   ]
  },
  {
   "cell_type": "code",
   "execution_count": 197,
   "metadata": {},
   "outputs": [],
   "source": [
    "model1 = xgb.XGBClassifier(alpha=0.8620819140940168,\n",
    "                           colsample_bytree=0.9015704847278612,\n",
    "                           eta=0.6922939563008799,\n",
    "                            lambda_=0.3049642099255053,\n",
    "                            max_depth=11,\n",
    "                            min_child_weight=23.88573150690095,\n",
    "                            objective='binary:logistic',\n",
    "                            subsample=0.6433010969964947,\n",
    "                            tree_method='hist',\n",
    "                            num_boost_round=600,\n",
    "                            maximize=False,\n",
    "                            verbose_eval=False)"
   ]
  },
  {
   "cell_type": "code",
   "execution_count": 198,
   "metadata": {},
   "outputs": [],
   "source": [
    "model2 = xgb.XGBClassifier(alpha=0.8620819140940168,\n",
    "                           colsample_bytree=0.9015704847278612,\n",
    "                           eta=0.6922939563008799,\n",
    "                            lambda_=0.3049642099255053,\n",
    "                            max_depth=11,\n",
    "                            min_child_weight=23.88573150690095,\n",
    "                            objective='binary:logistic',\n",
    "                            subsample=0.6433010969964947,\n",
    "                            tree_method='hist',\n",
    "                            num_boost_round=600,\n",
    "                            maximize=False,\n",
    "                            verbose_eval=False)"
   ]
  },
  {
   "cell_type": "code",
   "execution_count": 201,
   "metadata": {},
   "outputs": [],
   "source": [
    "tm = TwoModels(estimator_trmnt=model1, estimator_ctrl=model2)"
   ]
  },
  {
   "cell_type": "code",
   "execution_count": 202,
   "metadata": {},
   "outputs": [],
   "source": [
    "with open(\"../models/tm.dill\", \"wb\") as f:\n",
    "    dill.dump(tm, f)"
   ]
  },
  {
   "cell_type": "markdown",
   "metadata": {},
   "source": [
    "## <left>2. Feature Engineering. Часть 2<a class=\"anchor\" id=\"fe2\"></a><left>"
   ]
  },
  {
   "cell_type": "markdown",
   "metadata": {},
   "source": [
    "Добавим новые признаки: описательные статистики и функциональные зависимости. И снова проведём тренировку."
   ]
  },
  {
   "cell_type": "code",
   "execution_count": 23,
   "metadata": {},
   "outputs": [
    {
     "data": {
      "text/plain": [
       "array([[4.60000000e+01, 1.52252139e+18, 3.00000000e+00, ...,\n",
       "        5.20993581e+00, 4.10326767e-01, 2.62842006e-01],\n",
       "       [4.90000000e+01, 1.50074818e+18, 7.00000000e+00, ...,\n",
       "        5.20993581e+00, 4.10326767e-01, 2.62842006e-01],\n",
       "       [3.40000000e+01, 1.54504250e+18, 1.20000000e+01, ...,\n",
       "        5.02023749e+00, 3.64184782e-01, 2.19777228e-01],\n",
       "       ...,\n",
       "       [4.50000000e+01, 1.50289970e+18, 8.00000000e+00, ...,\n",
       "        5.02023749e+00, 3.64184782e-01, 2.19777228e-01],\n",
       "       [3.60000000e+01, 1.50256528e+18, 8.00000000e+00, ...,\n",
       "        5.02023749e+00, 3.64184782e-01, 2.19777228e-01],\n",
       "       [5.70000000e+01, 1.50861288e+18, 1.00000000e+01, ...,\n",
       "        5.20993581e+00, 4.10326767e-01, 2.62842006e-01]])"
      ]
     },
     "execution_count": 23,
     "metadata": {},
     "output_type": "execute_result"
    }
   ],
   "source": [
    "final_transformers = []\n",
    "\n",
    "for age in ages:\n",
    "    process_age = Pipeline([('selector', ColumnSelector(column='age')),\n",
    "                ('process_age', AgeTransformator(key='age', age_min = 16, age_max = 80))\n",
    "               ])\n",
    "    \n",
    "    final_transformers.append((age, process_age))\n",
    "\n",
    "for date in dates:\n",
    "    prepare_date = Pipeline([\n",
    "        ('selector', ColumnSelector(column=date)),\n",
    "        ('transformer', DateTransformator(key=date))\n",
    "        ])\n",
    "    \n",
    "    final_transformers.append((date, prepare_date))\n",
    "    \n",
    "for feature in num_features:\n",
    "    stat_features = Pipeline([\n",
    "                ('selector', ColumnSelector(column=feature)),\n",
    "                ('generator', FeaturesGenerator(key=feature, tol=1.01, p=2))\n",
    "    ])\n",
    "    \n",
    "    final_transformers.append((feature, stat_features))\n",
    "    \n",
    "feats = FeatureUnion(final_transformers)\n",
    "feature_processing = Pipeline([('feats', feats)])\n",
    "\n",
    "feature_processing.fit_transform(train_mean_target_part)\n",
    "feature_processing.fit_transform(valid_mean_target)"
   ]
  },
  {
   "cell_type": "code",
   "execution_count": 38,
   "metadata": {},
   "outputs": [
    {
     "name": "stdout",
     "output_type": "stream",
     "text": [
      "100%|█████████████████████████████████████████████| 15/15 [2:25:07<00:00, 580.48s/trial, best loss: 0.7626368579283269]\n"
     ]
    }
   ],
   "source": [
    "best_params = ModelTuning.tune(x=train_mean_target_part,\n",
    "                               y=y_train,\n",
    "                               model=xgb.XGBClassifier)"
   ]
  },
  {
   "cell_type": "code",
   "execution_count": 39,
   "metadata": {},
   "outputs": [
    {
     "data": {
      "text/plain": [
       "{'alpha': 1.2282117702110338,\n",
       " 'colsample_bytree': 0.8882480675859045,\n",
       " 'eta': 0.3944265635270794,\n",
       " 'lambda': 0.07570058100970123,\n",
       " 'max_depth': 14,\n",
       " 'min_child_weight': 3.987558770766897,\n",
       " 'objective': 'binary:logistic',\n",
       " 'subsample': 0.5462451852445609,\n",
       " 'tree_method': 'hist'}"
      ]
     },
     "execution_count": 39,
     "metadata": {},
     "output_type": "execute_result"
    }
   ],
   "source": [
    "best_params = space_eval(space_freq, best_params)\n",
    "best_params"
   ]
  },
  {
   "cell_type": "code",
   "execution_count": 40,
   "metadata": {},
   "outputs": [],
   "source": [
    "preds = ModelTuning.get_predictions(best_params=best_params, \n",
    "                        train_params=train_params, \n",
    "                        train=train_mean_target_part, \n",
    "                        y=y_train, \n",
    "                        valid=valid_mean_target, \n",
    "                        model=xgb.XGBClassifier)"
   ]
  },
  {
   "cell_type": "code",
   "execution_count": 41,
   "metadata": {},
   "outputs": [
    {
     "data": {
      "text/plain": [
       "0.6896976779148504"
      ]
     },
     "execution_count": 41,
     "metadata": {},
     "output_type": "execute_result"
    }
   ],
   "source": [
    "ModelTuning.grade(y_test = y_valid,\n",
    "                        preds=preds)"
   ]
  },
  {
   "cell_type": "code",
   "execution_count": 42,
   "metadata": {},
   "outputs": [
    {
     "data": {
      "text/plain": [
       "0.07756181015561514"
      ]
     },
     "execution_count": 42,
     "metadata": {},
     "output_type": "execute_result"
    }
   ],
   "source": [
    "ModelTuning.two_models(best_params = best_params, \n",
    "                       train_params = train_params, \n",
    "                       model = xgb.XGBClassifier, \n",
    "                       train = train_mean_target_part, \n",
    "                       y_train = y_train, \n",
    "                       treat_train = treat_train, \n",
    "                       valid=valid_mean_target,\n",
    "                       y_valid = y_valid, \n",
    "                       k=0.3, \n",
    "                       strategy='by_group')"
   ]
  },
  {
   "cell_type": "markdown",
   "metadata": {},
   "source": [
    "Значение метрик снизилось, нужно сделать более консервативную модель."
   ]
  },
  {
   "cell_type": "markdown",
   "metadata": {},
   "source": [
    "## <left>3. Жадный отбор признаков<a class=\"anchor\" id=\"greedy\"></a><left>"
   ]
  },
  {
   "cell_type": "markdown",
   "metadata": {},
   "source": [
    "Попробуем отобрать треть признаков из первого пайплайна. На каждом шаге будем добавлять в модель по 1 признаку. В итоге\n",
    "получим топ фичей, сильнее всего влияющих на хороший скор roc-auc."
   ]
  },
  {
   "cell_type": "code",
   "execution_count": 18,
   "metadata": {},
   "outputs": [],
   "source": [
    "#пространство поиска\n",
    "space_freq = {\n",
    "              'objective': 'binary:logistic',\n",
    "              'max_depth': scope.int(hp.quniform('max_depth', 3, 6, 1)),\n",
    "              'min_child_weight': hp.uniform('min_child_weight', 0, 50),\n",
    "              'subsample': hp.uniform('subsample', 0.5, 1),\n",
    "              'colsample_bytree': hp.uniform('colsample_bytree', 0.5, 1),\n",
    "              'alpha': hp.uniform('alpha', 0, 1.5),\n",
    "              'lambda': hp.uniform('lambda', 0, 1),\n",
    "              'eta': hp.uniform('eta', 0.01, 1),\n",
    "              'tree_method': 'hist'\n",
    "              }\n",
    "    \n",
    "train_params = {\n",
    "                'num_boost_round': 250,\n",
    "                'maximize': False,\n",
    "                'verbose_eval': False}"
   ]
  },
  {
   "cell_type": "code",
   "execution_count": 60,
   "metadata": {},
   "outputs": [
    {
     "data": {
      "text/plain": [
       "array([[4.60000000e+01, 1.52252139e+18, 3.00000000e+00, ...,\n",
       "        3.62018000e+03, 9.00000000e+00, 6.40567535e-01],\n",
       "       [4.90000000e+01, 1.50074818e+18, 7.00000000e+00, ...,\n",
       "        2.53161000e+03, 1.60000000e+01, 6.40567535e-01],\n",
       "       [3.40000000e+01, 1.54504250e+18, 1.20000000e+01, ...,\n",
       "        1.20563000e+03, 4.00000000e+00, 6.03477242e-01],\n",
       "       ...,\n",
       "       [4.50000000e+01, 1.50289970e+18, 8.00000000e+00, ...,\n",
       "        6.83890000e+02, 1.00000000e+00, 6.03477242e-01],\n",
       "       [3.60000000e+01, 1.50256528e+18, 8.00000000e+00, ...,\n",
       "        6.50342000e+03, 6.00000000e+00, 6.03477242e-01],\n",
       "       [5.70000000e+01, 1.50861288e+18, 1.00000000e+01, ...,\n",
       "        1.72949000e+03, 8.00000000e+00, 6.40567535e-01]])"
      ]
     },
     "execution_count": 60,
     "metadata": {},
     "output_type": "execute_result"
    }
   ],
   "source": [
    "final_transformers = []\n",
    "\n",
    "\n",
    "for age in ages:\n",
    "    process_age = Pipeline([('selector', ColumnSelector(column='age')),\n",
    "                ('process_age', AgeTransformator(key='age', age_min = 16, age_max = 80))\n",
    "               ])\n",
    "    \n",
    "    final_transformers.append((age, process_age))\n",
    "\n",
    "for date in dates:\n",
    "    prepare_date = Pipeline([\n",
    "        ('selector', ColumnSelector(column=date)),\n",
    "        ('transformer', DateTransformator(key=date))\n",
    "        ])\n",
    "    \n",
    "    final_transformers.append((date, prepare_date))\n",
    "    \n",
    "for feature in num_features:\n",
    "    num_selector = Pipeline([\n",
    "                ('selector', ColumnSelector(column=feature))\n",
    "    ])\n",
    "    \n",
    "    final_transformers.append((feature, num_selector))\n",
    "    \n",
    "feats = FeatureUnion(final_transformers)\n",
    "feature_processing = Pipeline([('feats', feats)])\n",
    "feature_processing.fit_transform(train_mean_target_part)\n",
    "feature_processing.fit_transform(valid_mean_target)"
   ]
  },
  {
   "cell_type": "code",
   "execution_count": 62,
   "metadata": {},
   "outputs": [],
   "source": [
    "feats = FeatureUnion(final_transformers)\n",
    "feature_selection = Pipeline([('feats', feats),\n",
    "                               ('select', SequentialFeatureSelector(estimator = xgb.XGBClassifier(),\n",
    "                                                         n_features_to_select = 7,\n",
    "                                                         cv=20,\n",
    "                                                         scoring='roc_auc',\n",
    "                                                         direction = 'forward',\n",
    "                                                         n_jobs=-1))])\n",
    "selector = feature_selection.fit(train_mean_target_part, y_train).transform(train_mean_target_part)"
   ]
  },
  {
   "cell_type": "code",
   "execution_count": 73,
   "metadata": {},
   "outputs": [
    {
     "data": {
      "text/html": [
       "<div>\n",
       "<style scoped>\n",
       "    .dataframe tbody tr th:only-of-type {\n",
       "        vertical-align: middle;\n",
       "    }\n",
       "\n",
       "    .dataframe tbody tr th {\n",
       "        vertical-align: top;\n",
       "    }\n",
       "\n",
       "    .dataframe thead th {\n",
       "        text-align: right;\n",
       "    }\n",
       "</style>\n",
       "<table border=\"1\" class=\"dataframe\">\n",
       "  <thead>\n",
       "    <tr style=\"text-align: right;\">\n",
       "      <th></th>\n",
       "      <th>0</th>\n",
       "      <th>1</th>\n",
       "      <th>2</th>\n",
       "      <th>3</th>\n",
       "      <th>4</th>\n",
       "      <th>5</th>\n",
       "      <th>6</th>\n",
       "    </tr>\n",
       "  </thead>\n",
       "  <tbody>\n",
       "    <tr>\n",
       "      <td>0</td>\n",
       "      <td>36.0</td>\n",
       "      <td>1.496174e+18</td>\n",
       "      <td>1.510332e+18</td>\n",
       "      <td>21.0</td>\n",
       "      <td>6.0</td>\n",
       "      <td>2.0</td>\n",
       "      <td>0.0</td>\n",
       "    </tr>\n",
       "    <tr>\n",
       "      <td>1</td>\n",
       "      <td>25.0</td>\n",
       "      <td>1.531216e+18</td>\n",
       "      <td>1.532965e+18</td>\n",
       "      <td>53.0</td>\n",
       "      <td>17.0</td>\n",
       "      <td>4.0</td>\n",
       "      <td>0.0</td>\n",
       "    </tr>\n",
       "    <tr>\n",
       "      <td>2</td>\n",
       "      <td>61.0</td>\n",
       "      <td>1.542362e+18</td>\n",
       "      <td>1.548961e+18</td>\n",
       "      <td>16.0</td>\n",
       "      <td>4.0</td>\n",
       "      <td>4.0</td>\n",
       "      <td>0.0</td>\n",
       "    </tr>\n",
       "    <tr>\n",
       "      <td>3</td>\n",
       "      <td>60.0</td>\n",
       "      <td>1.511098e+18</td>\n",
       "      <td>1.514897e+18</td>\n",
       "      <td>25.0</td>\n",
       "      <td>3.0</td>\n",
       "      <td>5.0</td>\n",
       "      <td>0.0</td>\n",
       "    </tr>\n",
       "    <tr>\n",
       "      <td>4</td>\n",
       "      <td>61.0</td>\n",
       "      <td>1.516551e+18</td>\n",
       "      <td>1.520614e+18</td>\n",
       "      <td>2.0</td>\n",
       "      <td>1.0</td>\n",
       "      <td>2.0</td>\n",
       "      <td>0.0</td>\n",
       "    </tr>\n",
       "  </tbody>\n",
       "</table>\n",
       "</div>"
      ],
      "text/plain": [
       "      0             1             2     3     4    5    6\n",
       "0  36.0  1.496174e+18  1.510332e+18  21.0   6.0  2.0  0.0\n",
       "1  25.0  1.531216e+18  1.532965e+18  53.0  17.0  4.0  0.0\n",
       "2  61.0  1.542362e+18  1.548961e+18  16.0   4.0  4.0  0.0\n",
       "3  60.0  1.511098e+18  1.514897e+18  25.0   3.0  5.0  0.0\n",
       "4  61.0  1.516551e+18  1.520614e+18   2.0   1.0  2.0  0.0"
      ]
     },
     "execution_count": 73,
     "metadata": {},
     "output_type": "execute_result"
    }
   ],
   "source": [
    "selector = pd.DataFrame(selector)\n",
    "selector.head()"
   ]
  },
  {
   "cell_type": "markdown",
   "metadata": {},
   "source": [
    "Отобраны следующие фичи:\n",
    "- age\n",
    "- first_issue_date\n",
    "- first_redeem_date\n",
    "- total_trans_count\n",
    "- last_month_trans_count\n",
    "- product_quantity_sum_all\n",
    "- regular_points_spent_sum_last_month"
   ]
  }
 ],
 "metadata": {
  "kernelspec": {
   "display_name": "Python 3",
   "language": "python",
   "name": "python3"
  },
  "language_info": {
   "codemirror_mode": {
    "name": "ipython",
    "version": 3
   },
   "file_extension": ".py",
   "mimetype": "text/x-python",
   "name": "python",
   "nbconvert_exporter": "python",
   "pygments_lexer": "ipython3",
   "version": "3.7.4"
  }
 },
 "nbformat": 4,
 "nbformat_minor": 2
}
