{
 "cells": [
  {
   "cell_type": "code",
   "execution_count": 1,
   "metadata": {},
   "outputs": [],
   "source": [
    "import numpy as np\n",
    "import pandas as pd\n",
    "import matplotlib.pyplot as plt\n",
    "import seaborn as sns\n",
    "from sklearn.metrics import roc_curve, roc_auc_score\n",
    "from sklearn.model_selection import StratifiedKFold\n",
    "from sklearn.model_selection import train_test_split\n",
    "from sklearn.model_selection import cross_val_score\n",
    "from hyperopt import fmin, tpe, hp, Trials, STATUS_OK\n",
    "from functools import partial\n",
    "import xgboost as xgb"
   ]
  },
  {
   "cell_type": "code",
   "execution_count": 2,
   "metadata": {},
   "outputs": [],
   "source": [
    "import warnings\n",
    "warnings.filterwarnings('ignore')"
   ]
  },
  {
   "cell_type": "code",
   "execution_count": 3,
   "metadata": {},
   "outputs": [],
   "source": [
    "path = 'E:/retailhero-uplift/data' "
   ]
  },
  {
   "cell_type": "code",
   "execution_count": 4,
   "metadata": {},
   "outputs": [
    {
     "data": {
      "text/html": [
       "<div>\n",
       "<style scoped>\n",
       "    .dataframe tbody tr th:only-of-type {\n",
       "        vertical-align: middle;\n",
       "    }\n",
       "\n",
       "    .dataframe tbody tr th {\n",
       "        vertical-align: top;\n",
       "    }\n",
       "\n",
       "    .dataframe thead th {\n",
       "        text-align: right;\n",
       "    }\n",
       "</style>\n",
       "<table border=\"1\" class=\"dataframe\">\n",
       "  <thead>\n",
       "    <tr style=\"text-align: right;\">\n",
       "      <th></th>\n",
       "      <th>client_id</th>\n",
       "      <th>first_issue_date</th>\n",
       "      <th>first_redeem_date</th>\n",
       "      <th>age</th>\n",
       "      <th>gender</th>\n",
       "      <th>treatment_flg</th>\n",
       "      <th>target</th>\n",
       "    </tr>\n",
       "  </thead>\n",
       "  <tbody>\n",
       "    <tr>\n",
       "      <td>0</td>\n",
       "      <td>000012768d</td>\n",
       "      <td>2017-08-05 15:40:48</td>\n",
       "      <td>2018-01-04 19:30:07</td>\n",
       "      <td>45</td>\n",
       "      <td>U</td>\n",
       "      <td>0</td>\n",
       "      <td>1</td>\n",
       "    </tr>\n",
       "    <tr>\n",
       "      <td>1</td>\n",
       "      <td>000036f903</td>\n",
       "      <td>2017-04-10 13:54:23</td>\n",
       "      <td>2017-04-23 12:37:56</td>\n",
       "      <td>72</td>\n",
       "      <td>F</td>\n",
       "      <td>1</td>\n",
       "      <td>1</td>\n",
       "    </tr>\n",
       "    <tr>\n",
       "      <td>2</td>\n",
       "      <td>00010925a5</td>\n",
       "      <td>2018-07-24 16:21:29</td>\n",
       "      <td>2018-09-14 16:12:49</td>\n",
       "      <td>83</td>\n",
       "      <td>U</td>\n",
       "      <td>1</td>\n",
       "      <td>1</td>\n",
       "    </tr>\n",
       "    <tr>\n",
       "      <td>3</td>\n",
       "      <td>0001f552b0</td>\n",
       "      <td>2017-06-30 19:20:38</td>\n",
       "      <td>2018-08-28 12:59:45</td>\n",
       "      <td>33</td>\n",
       "      <td>F</td>\n",
       "      <td>1</td>\n",
       "      <td>1</td>\n",
       "    </tr>\n",
       "    <tr>\n",
       "      <td>4</td>\n",
       "      <td>00020e7b18</td>\n",
       "      <td>2017-11-27 11:41:45</td>\n",
       "      <td>2018-01-10 17:50:05</td>\n",
       "      <td>73</td>\n",
       "      <td>U</td>\n",
       "      <td>1</td>\n",
       "      <td>1</td>\n",
       "    </tr>\n",
       "  </tbody>\n",
       "</table>\n",
       "</div>"
      ],
      "text/plain": [
       "    client_id     first_issue_date    first_redeem_date  age gender  \\\n",
       "0  000012768d  2017-08-05 15:40:48  2018-01-04 19:30:07   45      U   \n",
       "1  000036f903  2017-04-10 13:54:23  2017-04-23 12:37:56   72      F   \n",
       "2  00010925a5  2018-07-24 16:21:29  2018-09-14 16:12:49   83      U   \n",
       "3  0001f552b0  2017-06-30 19:20:38  2018-08-28 12:59:45   33      F   \n",
       "4  00020e7b18  2017-11-27 11:41:45  2018-01-10 17:50:05   73      U   \n",
       "\n",
       "   treatment_flg  target  \n",
       "0              0       1  \n",
       "1              1       1  \n",
       "2              1       1  \n",
       "3              1       1  \n",
       "4              1       1  "
      ]
     },
     "execution_count": 4,
     "metadata": {},
     "output_type": "execute_result"
    }
   ],
   "source": [
    "uplift = pd.read_csv(path + '/train.csv', encoding='utf-8')\n",
    "uplift.head()"
   ]
  },
  {
   "cell_type": "markdown",
   "metadata": {},
   "source": [
    "# 0.Используемые функции"
   ]
  },
  {
   "cell_type": "markdown",
   "metadata": {},
   "source": [
    "График ROC-AUC кривой."
   ]
  },
  {
   "cell_type": "code",
   "execution_count": 6,
   "metadata": {},
   "outputs": [],
   "source": [
    "def roc_auc_plot(y_test, preds):\n",
    "    sns.set(font_scale=1.5)\n",
    "    sns.set_color_codes(\"muted\")\n",
    "\n",
    "    plt.figure(figsize=(10, 8))\n",
    "    fpr, tpr, thresholds_ = roc_curve(y_test, preds, pos_label=1)\n",
    "    lw = 2\n",
    "    plt.plot(fpr, tpr, lw=lw, label='ROC curve')\n",
    "    plt.plot([0, 1], [0, 1])\n",
    "    plt.xlim([0.0, 1.0])\n",
    "    plt.ylim([0.0, 1.05])\n",
    "    plt.xlabel('False Positive Rate')\n",
    "    plt.ylabel('True Positive Rate')\n",
    "    plt.title('ROC curve')\n",
    "    plt.legend(loc='best')\n",
    "    plt.show()"
   ]
  },
  {
   "cell_type": "markdown",
   "metadata": {},
   "source": [
    "Mean target кодирование на кроссвалидации."
   ]
  },
  {
   "cell_type": "code",
   "execution_count": 8,
   "metadata": {},
   "outputs": [],
   "source": [
    "def mean_target_encoding(train_df, y_train, valid_df, skf):    \n",
    "    glob_mean = y_train.mean()\n",
    "    train_df = pd.concat([train_df, pd.Series(y_train, name='y')], axis=1)\n",
    "    new_train_df = train_df.copy()\n",
    "    \n",
    "    cat_features = train_df.columns[train_df.dtypes == 'object'].tolist()\n",
    "    \n",
    "    for col in cat_features:\n",
    "        new_train_df[col + '_mean_target'] = [glob_mean for _ in range(new_train_df.shape[0])]\n",
    "        \n",
    "    for train_idx, valid_idx in skf.split(train_df, y_train):\n",
    "        train_df_cv, valid_df_cv = train_df.iloc[train_idx, :], train_df.iloc[valid_idx, :]\n",
    "        \n",
    "        for col in cat_features:\n",
    "            \n",
    "            means = valid_df_cv[col].map(train_df_cv.groupby(col)['y'].means())\n",
    "            valid_df_cv[col + '_mean_target'] = means.fillna(glob_mean)\n",
    "            \n",
    "        new_train_df.iloc[valid_idx] = valid_df_cv\n",
    "        \n",
    "    new_train_df.drop(cat_features + ['y'], axis=1, inplace=True)\n",
    "    \n",
    "    for col in cat_features:\n",
    "        means = valid_df[col].map(train_df.groupby(col)['y'].mean())\n",
    "        valid_df[col + '_mean_target'] = means.fillna(glob_mean)\n",
    "        \n",
    "    valid_df.drop(train_df.columns[train_df.dtypes == 'object'], axis=1, inplace=True)\n",
    "    \n",
    "    return new_train_df, valid_df"
   ]
  },
  {
   "cell_type": "markdown",
   "metadata": {},
   "source": [
    "Подсчёт значений на подборе гиперпараметров."
   ]
  },
  {
   "cell_type": "code",
   "execution_count": 13,
   "metadata": {},
   "outputs": [],
   "source": [
    "def optimize(params, cv_params, x, y, model):\n",
    "    if 'max_depth' in params.keys():\n",
    "        params['max_depth'] = int(params['max_depth'])\n",
    "    \n",
    "    cv_result = xgb.cv(params=params, dtrain=data, **cv_params)\n",
    "    name = [i for i in cv_result.columns if all([i.startswith('test-'), i.endswith('-mean')])][-1]\n",
    "    score = cv_result[name][-1:].values[0]\n",
    "    \n",
    "    return {'loss': score, 'status': STATUS_OK}"
   ]
  },
  {
   "cell_type": "markdown",
   "metadata": {},
   "source": [
    "# 1. Подбор гиперпараметров с hyperopt"
   ]
  },
  {
   "cell_type": "markdown",
   "metadata": {},
   "source": [
    "Основные гиперпараметры, используемые в библиотеке XGBoost\n",
    "* _objective_ - функция распределения\n",
    "* _eta_ - размер шага\n",
    "* _max_depth_ - максимальная глубина дерева\n",
    "* _min_child_weight_ - минимальный вес, необходимый дочерним элементам\n",
    "* _subsample_ - доля подвыборки для каждой итерации\n",
    "* _colsample_bytree_ - доля колонок, участвующих в итерации\n",
    "* _alpha_ - сила регуляризации L1\n",
    "* _lambda_ - сила регуляризации L2\n",
    "* _gamma_ - штраф на сложность деревьев\n",
    "* _num_boost_round_ - число итераций (фиксируем, не следует менять вместе с _eta_)\n",
    "* _early_stopping_rounds_ - число итераций для остановки, если не произошло улучшение метрики (фиксируем) "
   ]
  },
  {
   "cell_type": "markdown",
   "metadata": {},
   "source": [
    "Определим параметры кроссвалидации."
   ]
  },
  {
   "cell_type": "code",
   "execution_count": 10,
   "metadata": {},
   "outputs": [],
   "source": [
    "cv_params = {'num_boost_round': 200,\n",
    "             'objective': 'binary:logistic',\n",
    "             'nfold': 5,\n",
    "             'shuffle': True,\n",
    "             'stratified': False,\n",
    "             'maximize': False,\n",
    "             'early_stopping_rounds': 20\n",
    "              }"
   ]
  },
  {
   "cell_type": "markdown",
   "metadata": {},
   "source": [
    "Определим пространство поиска."
   ]
  },
  {
   "cell_type": "code",
   "execution_count": 11,
   "metadata": {},
   "outputs": [],
   "source": [
    "space_freq = {'booster': hp.choice('booster', ['gbtree', 'gblinear', 'dart']),\n",
    "              'objective': 'binary:logistic',\n",
    "              'max_depth': hp.choice('max_depth', [5, 8, 10, 12, 15]),\n",
    "              'min_child_weight': hp.uniform('min_child_weight', 0, 50),\n",
    "              'subsample': hp.uniform('subsample', 0.5, 1),\n",
    "              'colsample_bytree': hp.uniform('colsample_bytree', 0.5, 1),\n",
    "              'alpha': hp.uniform('alpha', 0, 1),\n",
    "              'lambda': hp.uniform('lambda', 0, 1),\n",
    "              'eta': hp.uniform('eta', 0.01, 1),\n",
    "              'tree_method': 'hist'\n",
    "              }"
   ]
  },
  {
   "cell_type": "code",
   "execution_count": null,
   "metadata": {},
   "outputs": [],
   "source": [
    "optimization_function = partial(optimize,\n",
    "                                 x=X_train, \n",
    "                                 y=y_train,\n",
    "                                 model=xgb.XGBClassifier)\n",
    "trials = Trials()\n",
    "\n",
    "fmin(fn=optimization_function, space=space_freq, algo=tpe.suggest, max_evals=20, trials=trials)\n",
    "\n",
    "best = fmin(fn=optimization_function,\n",
    "            space=space_freq, \n",
    "            trials=trials, \n",
    "            algo=tpe.suggest, \n",
    "            max_evals=50, \n",
    "            timeout=3600)\n",
    "\n",
    "best_params = space_eval(space_freq, best)\n",
    "best_params"
   ]
  },
  {
   "cell_type": "code",
   "execution_count": null,
   "metadata": {},
   "outputs": [],
   "source": []
  },
  {
   "cell_type": "code",
   "execution_count": null,
   "metadata": {},
   "outputs": [],
   "source": []
  },
  {
   "cell_type": "code",
   "execution_count": null,
   "metadata": {},
   "outputs": [],
   "source": []
  },
  {
   "cell_type": "code",
   "execution_count": null,
   "metadata": {},
   "outputs": [],
   "source": []
  },
  {
   "cell_type": "code",
   "execution_count": 12,
   "metadata": {},
   "outputs": [],
   "source": [
    "train_params = {'num_boost_round': 300,\n",
    "                'maximize': False,\n",
    "                'verbose_eval': False}"
   ]
  }
 ],
 "metadata": {
  "kernelspec": {
   "display_name": "Python 3",
   "language": "python",
   "name": "python3"
  },
  "language_info": {
   "codemirror_mode": {
    "name": "ipython",
    "version": 3
   },
   "file_extension": ".py",
   "mimetype": "text/x-python",
   "name": "python",
   "nbconvert_exporter": "python",
   "pygments_lexer": "ipython3",
   "version": "3.7.4"
  }
 },
 "nbformat": 4,
 "nbformat_minor": 2
}
