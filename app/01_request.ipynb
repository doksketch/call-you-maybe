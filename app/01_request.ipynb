{
 "cells": [
  {
   "cell_type": "code",
   "execution_count": 1,
   "metadata": {},
   "outputs": [],
   "source": [
    "import pandas as pd\n",
    "import json"
   ]
  },
  {
   "cell_type": "code",
   "execution_count": 56,
   "metadata": {},
   "outputs": [],
   "source": [
    "def send_json(x):\n",
    "    first_issue_date, first_redeem_date, age, gender_mean_target, total_trans_count, \n",
    "    last_month_trans_count, regular_points_received_sum_all, express_points_received_sum_all, \n",
    "    regular_points_spent_sum_all, express_points_spent_sum_all, purchase_sum_sum_all,\n",
    "    store_id_sum_all, product_quantity_sum_all, regular_points_received_sum_last_month,\n",
    "    express_points_received_sum_last_month, regular_points_spent_sum_last_month,\n",
    "    express_points_spent_sum_last_month, purchase_sum_sum_last_month, store_id_sum_last_month,\n",
    "    product_quantity_sum_last_month = x\n",
    "    \n",
    "    body = {\"first_issue_date\": first_issue_date,\n",
    "            \"first_redeem_date\": first_redeem_date,\n",
    "            \"age\": age,\n",
    "            \"gender_mean_target\":gender_mean_target,\n",
    "            \"total_trans_count\":total_trans_count,\n",
    "            \"last_month_trans_count\": last_month_trans_count,\n",
    "            \"regular_points_received_sum_all\": regular_points_received_sum_all,\n",
    "            \"express_points_received_sum_all\": express_points_received_sum_all,\n",
    "            \"regular_points_spent_sum_all\": regular_points_spent_sum_all,\n",
    "            \"express_points_spent_sum_all\": express_points_spent_sum_all,\n",
    "            \"purchase_sum_sum_all\": purchase_sum_sum_all,\n",
    "            \"store_id_sum_all\": store_id_sum_all,\n",
    "            \"product_quantity_sum_all\": product_quantity_sum_all,\n",
    "            \"regular_points_received_sum_last_month\": regular_points_received_sum_last_month,\n",
    "            \"express_points_received_sum_last_month\": express_points_received_sum_last_month,\n",
    "            \"regular_points_spent_sum_last_month\": regular_points_spent_sum_last_month,\n",
    "            \"express_points_spent_sum_last_month\": express_points_spent_sum_last_month,\n",
    "            \"purchase_sum_sum_last_month\": purchase_sum_sum_last_month,\n",
    "            \"store_id_sum_last_month\": store_id_sum_last_month,\n",
    "            \"product_quantity_sum_last_month\": product_quantity_sum_last_month}\n",
    "    \n",
    "    url = 'http://127.0.0.1:5000' + '/predict'\n",
    "    headers = {'content-type': 'application/json; charset=utf-8'}\n",
    "    response = requests.post(url, json=body, headers=headers)\n",
    "    return response.json()['predictions']"
   ]
  },
  {
   "cell_type": "code",
   "execution_count": 57,
   "metadata": {},
   "outputs": [],
   "source": [
    "path = 'E:/retailhero-uplift/data'"
   ]
  },
  {
   "cell_type": "code",
   "execution_count": 60,
   "metadata": {},
   "outputs": [],
   "source": [
    "df = pd.read_csv(path + '/valid_.csv', parse_dates=['first_issue_date', 'first_redeem_date'])"
   ]
  },
  {
   "cell_type": "code",
   "execution_count": 61,
   "metadata": {},
   "outputs": [
    {
     "ename": "NameError",
     "evalue": "name 'first_issue_date' is not defined",
     "output_type": "error",
     "traceback": [
      "\u001b[1;31m---------------------------------------------------------------------------\u001b[0m",
      "\u001b[1;31mNameError\u001b[0m                                 Traceback (most recent call last)",
      "\u001b[1;32m<ipython-input-61-472ec5fca456>\u001b[0m in \u001b[0;36m<module>\u001b[1;34m\u001b[0m\n\u001b[1;32m----> 1\u001b[1;33m \u001b[0mresponse\u001b[0m \u001b[1;33m=\u001b[0m \u001b[0msend_json\u001b[0m\u001b[1;33m(\u001b[0m\u001b[0mdf\u001b[0m\u001b[1;33m[\u001b[0m\u001b[0mdf\u001b[0m\u001b[1;33m.\u001b[0m\u001b[0mcolumns\u001b[0m\u001b[1;33m.\u001b[0m\u001b[0mto_list\u001b[0m\u001b[1;33m(\u001b[0m\u001b[1;33m)\u001b[0m\u001b[1;33m]\u001b[0m\u001b[1;33m.\u001b[0m\u001b[0miloc\u001b[0m\u001b[1;33m[\u001b[0m\u001b[1;36m1\u001b[0m\u001b[1;33m,\u001b[0m \u001b[1;33m:\u001b[0m\u001b[1;33m]\u001b[0m\u001b[1;33m)\u001b[0m\u001b[1;33m\u001b[0m\u001b[1;33m\u001b[0m\u001b[0m\n\u001b[0m",
      "\u001b[1;32m<ipython-input-56-11924ffc4526>\u001b[0m in \u001b[0;36msend_json\u001b[1;34m(x)\u001b[0m\n\u001b[0;32m      1\u001b[0m \u001b[1;32mdef\u001b[0m \u001b[0msend_json\u001b[0m\u001b[1;33m(\u001b[0m\u001b[0mx\u001b[0m\u001b[1;33m)\u001b[0m\u001b[1;33m:\u001b[0m\u001b[1;33m\u001b[0m\u001b[1;33m\u001b[0m\u001b[0m\n\u001b[1;32m----> 2\u001b[1;33m     \u001b[0mfirst_issue_date\u001b[0m\u001b[1;33m,\u001b[0m \u001b[0mfirst_redeem_date\u001b[0m\u001b[1;33m,\u001b[0m \u001b[0mage\u001b[0m\u001b[1;33m,\u001b[0m \u001b[0mgender_mean_target\u001b[0m\u001b[1;33m,\u001b[0m \u001b[0mtotal_trans_count\u001b[0m\u001b[1;33m,\u001b[0m\u001b[1;33m\u001b[0m\u001b[1;33m\u001b[0m\u001b[0m\n\u001b[0m\u001b[0;32m      3\u001b[0m     \u001b[0mlast_month_trans_count\u001b[0m\u001b[1;33m,\u001b[0m \u001b[0mregular_points_received_sum_all\u001b[0m\u001b[1;33m,\u001b[0m \u001b[0mexpress_points_received_sum_all\u001b[0m\u001b[1;33m,\u001b[0m\u001b[1;33m\u001b[0m\u001b[1;33m\u001b[0m\u001b[0m\n\u001b[0;32m      4\u001b[0m     \u001b[0mregular_points_spent_sum_all\u001b[0m\u001b[1;33m,\u001b[0m \u001b[0mexpress_points_spent_sum_all\u001b[0m\u001b[1;33m,\u001b[0m \u001b[0mpurchase_sum_sum_all\u001b[0m\u001b[1;33m,\u001b[0m\u001b[1;33m\u001b[0m\u001b[1;33m\u001b[0m\u001b[0m\n\u001b[0;32m      5\u001b[0m     \u001b[0mstore_id_sum_all\u001b[0m\u001b[1;33m,\u001b[0m \u001b[0mproduct_quantity_sum_all\u001b[0m\u001b[1;33m,\u001b[0m \u001b[0mregular_points_received_sum_last_month\u001b[0m\u001b[1;33m,\u001b[0m\u001b[1;33m\u001b[0m\u001b[1;33m\u001b[0m\u001b[0m\n",
      "\u001b[1;31mNameError\u001b[0m: name 'first_issue_date' is not defined"
     ]
    }
   ],
   "source": [
    "response = send_json(df[df.columns.to_list()].iloc[1, :])"
   ]
  },
  {
   "cell_type": "code",
   "execution_count": null,
   "metadata": {},
   "outputs": [],
   "source": []
  }
 ],
 "metadata": {
  "kernelspec": {
   "display_name": "Python 3",
   "language": "python",
   "name": "python3"
  },
  "language_info": {
   "codemirror_mode": {
    "name": "ipython",
    "version": 3
   },
   "file_extension": ".py",
   "mimetype": "text/x-python",
   "name": "python",
   "nbconvert_exporter": "python",
   "pygments_lexer": "ipython3",
   "version": "3.7.4"
  }
 },
 "nbformat": 4,
 "nbformat_minor": 2
}
