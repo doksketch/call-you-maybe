{
 "cells": [
  {
   "cell_type": "code",
   "execution_count": 1,
   "metadata": {},
   "outputs": [],
   "source": [
    "import numpy as np\n",
    "import dill\n",
    "import pandas as pd\n",
    "dill._dill._reverse_typemap['ClassType'] = type\n",
    "import flask"
   ]
  },
  {
   "cell_type": "code",
   "execution_count": 2,
   "metadata": {},
   "outputs": [],
   "source": [
    "app = flask.Flask(__name__)\n",
    "model = None"
   ]
  },
  {
   "cell_type": "code",
   "execution_count": 3,
   "metadata": {},
   "outputs": [],
   "source": [
    "def load_model(model_path):\n",
    "    global model\n",
    "    with open(model_path, 'rb') as f:\n",
    "        model = dill.load(f)"
   ]
  },
  {
   "cell_type": "code",
   "execution_count": 4,
   "metadata": {},
   "outputs": [],
   "source": [
    "@app.route(\"/\", methods=[\"GET\"])\n",
    "def general():\n",
    "    return \"Welcome to uplift\""
   ]
  },
  {
   "cell_type": "code",
   "execution_count": 5,
   "metadata": {},
   "outputs": [],
   "source": [
    "@app.route(\"/predict\", methods=[\"POST\"])\n",
    "def predict():\n",
    "    data = {\"success\": False}\n",
    "\n",
    "    if flask.request.method == \"POST\":\n",
    "        first_issue_date, first_redeem_date, age, gender, total_trans_count, \n",
    "        last_month_trans_count, regular_points_received_sum_all, express_points_received_sum_all, \n",
    "        regular_points_spent_sum_all, express_points_spent_sum_all, purchase_sum_sum_all,\n",
    "        store_id_sum_all, product_quantity_sum_all, regular_points_received_sum_last_month,\n",
    "        express_points_received_sum_last_month, regular_points_spent_sum_last_month,\n",
    "        express_points_spent_sum_last_month, purchase_sum_sum_last_month, store_id_sum_last_month,\n",
    "        product_quantity_sum_last_month = \"\", \"\", \"\", \"\", \"\", \"\", \"\", \"\", \"\", \"\", \"\", \"\", \"\", \"\", \"\",\n",
    "        \"\", \"\", \"\", \"\", \"\",\n",
    "        request_json = flask.request.get_json()\n",
    "        if request_json[\"first_issue_date\"]:\n",
    "            first_issue_date = request_json['first_issue_date']\n",
    "        if request_json[\"first_redeem_date\"]:\n",
    "            first_redeem_date = request_json['first_redeem_date']\n",
    "        if request_json[\"age\"]:\n",
    "            age = request_json['age']\n",
    "        if request_json[\"gender_mean_target\"]:\n",
    "            gender_mean_target = request_json['gender_mean_target']\n",
    "        if request_json[\"total_trans_count\"]:\n",
    "            total_trans_count = request_json['total_trans_count']\n",
    "        if request_json[\"last_month_trans_count\"]:\n",
    "            last_month_trans_count = request_json['last_month_trans_count']\n",
    "        if request_json[\"regular_points_received_sum_all\"]:\n",
    "            regular_points_received_sum_all = request_json['regular_points_received_sum_all']\n",
    "        if request_json[\"express_points_received_sum_all\"]:\n",
    "            express_points_received_sum_all = request_json['express_points_received_sum_all']\n",
    "        if request_json[\"regular_points_spent_sum_all\"]:\n",
    "            regular_points_spent_sum_all = request_json['regular_points_spent_sum_all']\n",
    "        if request_json[\"express_points_spent_sum_all\"]:\n",
    "            express_points_spent_sum_all = request_json['express_points_spent_sum_all']\n",
    "        if request_json[\"purchase_sum_sum_all\"]:\n",
    "            purchase_sum_sum_all = request_json['purchase_sum_sum_all']\n",
    "        if request_json[\"store_id_sum_all\"]:\n",
    "            store_id_sum_all = request_json['store_id_sum_all']\n",
    "        if request_json[\"product_quantity_sum_all\"]:\n",
    "            product_quantity_sum_all = request_json['product_quantity_sum_all']\n",
    "        if request_json[\"regular_points_received_sum_last_month\"]:\n",
    "            regular_points_received_sum_last_month = request_json['regular_points_received_sum_last_month']\n",
    "        if request_json[\"express_points_received_sum_last_month\"]:\n",
    "            express_points_received_sum_last_month = request_json['express_points_received_sum_last_month']\n",
    "        if request_json[\"regular_points_spent_sum_last_month\"]:\n",
    "            regular_points_spent_sum_last_month = request_json['regular_points_spent_sum_last_month']\n",
    "        if request_json[\"express_points_spent_sum_last_month\"]:\n",
    "            express_points_spent_sum_last_month = request_json['express_points_spent_sum_last_month']\n",
    "        if request_json[\"purchase_sum_sum_last_month\"]:\n",
    "            purchase_sum_sum_last_month = request_json['purchase_sum_sum_last_month']\n",
    "        if request_json[\"store_id_sum_last_month\"]:\n",
    "            store_id_sum_last_month = request_json['store_id_sum_last_month']\n",
    "        if request_json[\"product_quantity_sum_last_month\"]:\n",
    "            product_quantity_sum_last_month = request_json['product_quantity_sum_last_month']\n",
    "            \n",
    "        preds = model.predict(pd.DataFrame({\"first_issue_date\": [first_issue_date],\n",
    "                                            \"first_redeem_date\": [first_redeem_date],\n",
    "                                           \"age\": [age],\n",
    "                                           \"gender_mean_target\":[gender_mean_target],\n",
    "                                           \"total_trans_count\":[total_trans_count],\n",
    "                                           \"last_month_trans_count\":[last_month_trans_count],\n",
    "                                           \"regular_points_received_sum_all\":[regular_points_received_sum_all],\n",
    "                                           \"express_points_received_sum_all\":[express_points_received_sum_all],\n",
    "                                           \"regular_points_spent_sum_all\":[regular_points_spent_sum_all],\n",
    "                                           \"express_points_spent_sum_all\":[express_points_spent_sum_all],\n",
    "                                           \"purchase_sum_sum_all\":[purchase_sum_sum_all],\n",
    "                                           \"store_id_sum_all\":[store_id_sum_all],\n",
    "                                           \"product_quantity_sum_all\":[product_quantity_sum_all],\n",
    "                                           \"regular_points_received_sum_last_month\":[regular_points_received_sum_last_month],\n",
    "                                           \"express_points_received_sum_last_month\":[express_points_received_sum_last_month],\n",
    "                                           \"regular_points_spent_sum_last_month\":[regular_points_spent_sum_last_month],\n",
    "                                           \"express_points_spent_sum_last_month\":[express_points_spent_sum_last_month],\n",
    "                                           \"purchase_sum_sum_last_month\":[purchase_sum_sum_last_month],\n",
    "                                           \"store_id_sum_last_month\":[store_id_sum_last_month],\n",
    "                                           \"product_quantity_sum_last_month\":[product_quantity_sum_last_month]}))\n",
    "        data[\"predictions\"] = preds\n",
    "        data[\"success\"] = True\n",
    "\n",
    "    return flask.jsonify(data)"
   ]
  },
  {
   "cell_type": "code",
   "execution_count": null,
   "metadata": {},
   "outputs": [],
   "source": [
    "modelpath = \"./models/uplift_pipeline.dill\"\n",
    "load_model(modelpath)\n",
    "app.run()"
   ]
  }
 ],
 "metadata": {
  "kernelspec": {
   "display_name": "Python 3",
   "language": "python",
   "name": "python3"
  },
  "language_info": {
   "codemirror_mode": {
    "name": "ipython",
    "version": 3
   },
   "file_extension": ".py",
   "mimetype": "text/x-python",
   "name": "python",
   "nbconvert_exporter": "python",
   "pygments_lexer": "ipython3",
   "version": "3.7.4"
  }
 },
 "nbformat": 4,
 "nbformat_minor": 2
}
