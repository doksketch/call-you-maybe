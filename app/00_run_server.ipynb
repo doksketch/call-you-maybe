{
 "cells": [
  {
   "cell_type": "code",
   "execution_count": 14,
   "metadata": {},
   "outputs": [],
   "source": [
    "import numpy as np\n",
    "import dill\n",
    "import pandas as pd\n",
    "dill._dill._reverse_typemap['ClassType'] = type\n",
    "import flask\n",
    "from sklift.models import TwoModels"
   ]
  },
  {
   "cell_type": "code",
   "execution_count": 15,
   "metadata": {},
   "outputs": [],
   "source": [
    "import warnings\n",
    "warnings.filterwarnings('ignore')"
   ]
  },
  {
   "cell_type": "code",
   "execution_count": 16,
   "metadata": {},
   "outputs": [],
   "source": [
    "path = 'E:/retailhero-uplift/data'"
   ]
  },
  {
   "cell_type": "code",
   "execution_count": 17,
   "metadata": {},
   "outputs": [],
   "source": [
    "train = pd.read_csv(path + '/train_.csv', parse_dates=['first_issue_date', 'first_redeem_date'])"
   ]
  },
  {
   "cell_type": "code",
   "execution_count": 18,
   "metadata": {},
   "outputs": [],
   "source": [
    "colname=['y_train']\n",
    "y_train = pd.read_csv(path + '/y_train.csv', names=colname, header=None)"
   ]
  },
  {
   "cell_type": "code",
   "execution_count": 19,
   "metadata": {},
   "outputs": [],
   "source": [
    "colname=['treatment_flg']\n",
    "treat_train = pd.read_csv(path + '/treat_train.csv', names=colname, header=None)"
   ]
  },
  {
   "cell_type": "code",
   "execution_count": 20,
   "metadata": {},
   "outputs": [],
   "source": [
    "app = flask.Flask(__name__)\n",
    "feature_processing = None\n",
    "model = None"
   ]
  },
  {
   "cell_type": "code",
   "execution_count": 21,
   "metadata": {},
   "outputs": [],
   "source": [
    "def load_processing(processing_path):\n",
    "    global feature_processing\n",
    "    with open(processing_path, 'rb') as f:\n",
    "        feature_processing = dill.load(f)"
   ]
  },
  {
   "cell_type": "code",
   "execution_count": 22,
   "metadata": {},
   "outputs": [],
   "source": [
    "def load_model(model_path):\n",
    "    global model\n",
    "    with open(model_path, 'rb') as f:\n",
    "        model = dill.load(f)"
   ]
  },
  {
   "cell_type": "code",
   "execution_count": 23,
   "metadata": {},
   "outputs": [],
   "source": [
    "@app.route(\"/\", methods=[\"GET\"])\n",
    "def general():\n",
    "    return \"Welcome to uplift\""
   ]
  },
  {
   "cell_type": "code",
   "execution_count": 24,
   "metadata": {},
   "outputs": [],
   "source": [
    "@app.route(\"/predict\", methods=[\"POST\"])\n",
    "def predict():\n",
    "    data = {\"success\": False}\n",
    "\n",
    "    if flask.request.method == \"POST\":\n",
    "        request_json = flask.request.get_json()\n",
    "        if request_json[\"first_issue_date\"]:\n",
    "            first_issue_date = request_json['first_issue_date']\n",
    "        if request_json[\"first_redeem_date\"]:\n",
    "            first_redeem_date = request_json['first_redeem_date']\n",
    "        if request_json[\"age\"]:\n",
    "            age = request_json['age']\n",
    "        if request_json[\"gender_mean_target\"]:\n",
    "            gender_mean_target = request_json['gender_mean_target']\n",
    "        if request_json[\"total_trans_count\"]:\n",
    "            total_trans_count = request_json['total_trans_count']\n",
    "        if request_json[\"last_month_trans_count\"]:\n",
    "            last_month_trans_count = request_json['last_month_trans_count']\n",
    "        if request_json[\"regular_points_received_sum_all\"]:\n",
    "            regular_points_received_sum_all = request_json['regular_points_received_sum_all']\n",
    "        if request_json[\"express_points_received_sum_all\"]:\n",
    "            express_points_received_sum_all = request_json['express_points_received_sum_all']\n",
    "        if request_json[\"regular_points_spent_sum_all\"]:\n",
    "            regular_points_spent_sum_all = request_json['regular_points_spent_sum_all']\n",
    "        if request_json[\"express_points_spent_sum_all\"]:\n",
    "            express_points_spent_sum_all = request_json['express_points_spent_sum_all']\n",
    "        if request_json[\"purchase_sum_sum_all\"]:\n",
    "            purchase_sum_sum_all = request_json['purchase_sum_sum_all']\n",
    "        if request_json[\"store_id_sum_all\"]:\n",
    "            store_id_sum_all = request_json['store_id_sum_all']\n",
    "        if request_json[\"product_quantity_sum_all\"]:\n",
    "            product_quantity_sum_all = request_json['product_quantity_sum_all']\n",
    "        if request_json[\"regular_points_received_sum_last_month\"]:\n",
    "            regular_points_received_sum_last_month = request_json['regular_points_received_sum_last_month']\n",
    "        if request_json[\"express_points_received_sum_last_month\"]:\n",
    "            express_points_received_sum_last_month = request_json['express_points_received_sum_last_month']\n",
    "        if request_json[\"regular_points_spent_sum_last_month\"]:\n",
    "            regular_points_spent_sum_last_month = request_json['regular_points_spent_sum_last_month']\n",
    "        if request_json[\"express_points_spent_sum_last_month\"]:\n",
    "            express_points_spent_sum_last_month = request_json['express_points_spent_sum_last_month']\n",
    "        if request_json[\"purchase_sum_sum_last_month\"]:\n",
    "            purchase_sum_sum_last_month = request_json['purchase_sum_sum_last_month']\n",
    "        if request_json[\"store_id_sum_last_month\"]:\n",
    "            store_id_sum_last_month = request_json['store_id_sum_last_month']\n",
    "        if request_json[\"product_quantity_sum_last_month\"]:\n",
    "            product_quantity_sum_last_month = request_json['product_quantity_sum_last_month']\n",
    "        \n",
    "        #tm = model.fit(pd.DataFrame((feature_processing.fit_transform(train))), y_train, treat_train)\n",
    "        \n",
    "        preds = model.predict(feature_processing.transform(pd.DataFrame({\"first_issue_date\": [first_issue_date],\n",
    "                                            \"first_redeem_date\": [first_redeem_date],\n",
    "                                           \"age\": [age],\n",
    "                                           \"gender_mean_target\":[gender_mean_target],\n",
    "                                           \"total_trans_count\":[total_trans_count],\n",
    "                                           \"last_month_trans_count\":[last_month_trans_count],\n",
    "                                           \"regular_points_received_sum_all\":[regular_points_received_sum_all],\n",
    "                                           \"express_points_received_sum_all\":[express_points_received_sum_all],\n",
    "                                           \"regular_points_spent_sum_all\":[regular_points_spent_sum_all],\n",
    "                                           \"express_points_spent_sum_all\":[express_points_spent_sum_all],\n",
    "                                           \"purchase_sum_sum_all\":[purchase_sum_sum_all],\n",
    "                                           \"store_id_sum_all\":[store_id_sum_all],\n",
    "                                           \"product_quantity_sum_all\":[product_quantity_sum_all],\n",
    "                                           \"regular_points_received_sum_last_month\":[regular_points_received_sum_last_month],\n",
    "                                           \"express_points_received_sum_last_month\":[express_points_received_sum_last_month],\n",
    "                                           \"regular_points_spent_sum_last_month\":[regular_points_spent_sum_last_month],\n",
    "                                           \"express_points_spent_sum_last_month\":[express_points_spent_sum_last_month],\n",
    "                                           \"purchase_sum_sum_last_month\":[purchase_sum_sum_last_month],\n",
    "                                           \"store_id_sum_last_month\":[store_id_sum_last_month],\n",
    "                                           \"product_quantity_sum_last_month\":[product_quantity_sum_last_month]})))\n",
    "        data[\"predictions\"] = preds\n",
    "        data[\"success\"] = True\n",
    "\n",
    "    return flask.jsonify(data)"
   ]
  },
  {
   "cell_type": "code",
   "execution_count": null,
   "metadata": {},
   "outputs": [
    {
     "name": "stdout",
     "output_type": "stream",
     "text": [
      " * Serving Flask app \"__main__\" (lazy loading)\n",
      " * Environment: production\n",
      "   WARNING: This is a development server. Do not use it in a production deployment.\n",
      "   Use a production WSGI server instead.\n",
      " * Debug mode: off\n"
     ]
    },
    {
     "name": "stderr",
     "output_type": "stream",
     "text": [
      " * Running on http://127.0.0.1:5000/ (Press CTRL+C to quit)\n",
      "[2021-03-04 11:30:19,193] ERROR in app: Exception on /predict [POST]\n",
      "Traceback (most recent call last):\n",
      "  File \"C:\\Users\\user\\Anaconda3\\lib\\site-packages\\flask\\app.py\", line 2446, in wsgi_app\n",
      "    response = self.full_dispatch_request()\n",
      "  File \"C:\\Users\\user\\Anaconda3\\lib\\site-packages\\flask\\app.py\", line 1951, in full_dispatch_request\n",
      "    rv = self.handle_user_exception(e)\n",
      "  File \"C:\\Users\\user\\Anaconda3\\lib\\site-packages\\flask\\app.py\", line 1820, in handle_user_exception\n",
      "    reraise(exc_type, exc_value, tb)\n",
      "  File \"C:\\Users\\user\\Anaconda3\\lib\\site-packages\\flask\\_compat.py\", line 39, in reraise\n",
      "    raise value\n",
      "  File \"C:\\Users\\user\\Anaconda3\\lib\\site-packages\\flask\\app.py\", line 1949, in full_dispatch_request\n",
      "    rv = self.dispatch_request()\n",
      "  File \"C:\\Users\\user\\Anaconda3\\lib\\site-packages\\flask\\app.py\", line 1935, in dispatch_request\n",
      "    return self.view_functions[rule.endpoint](**req.view_args)\n",
      "  File \"<ipython-input-24-8fb09bd8c95d>\", line 56, in predict\n",
      "    \"regular_points_received_sum_all\":[regular_points_received_sum_all],\n",
      "UnboundLocalError: local variable 'regular_points_received_sum_all' referenced before assignment\n",
      "127.0.0.1 - - [04/Mar/2021 11:30:19] \"\u001b[1m\u001b[35mPOST /predict HTTP/1.1\u001b[0m\" 500 -\n"
     ]
    }
   ],
   "source": [
    "processing_path = \"../models/feature_processing.dill\"\n",
    "model_path = \"../models/tm.dill\"\n",
    "load_processing(processing_path)\n",
    "load_model(model_path)\n",
    "app.run()"
   ]
  },
  {
   "cell_type": "code",
   "execution_count": null,
   "metadata": {},
   "outputs": [],
   "source": []
  }
 ],
 "metadata": {
  "kernelspec": {
   "display_name": "Python 3",
   "language": "python",
   "name": "python3"
  },
  "language_info": {
   "codemirror_mode": {
    "name": "ipython",
    "version": 3
   },
   "file_extension": ".py",
   "mimetype": "text/x-python",
   "name": "python",
   "nbconvert_exporter": "python",
   "pygments_lexer": "ipython3",
   "version": "3.7.4"
  }
 },
 "nbformat": 4,
 "nbformat_minor": 2
}
