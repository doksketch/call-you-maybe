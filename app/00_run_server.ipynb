{
 "cells": [
  {
   "cell_type": "code",
   "execution_count": 80,
   "metadata": {},
   "outputs": [],
   "source": [
    "import numpy as np\n",
    "import dill\n",
    "import pandas as pd\n",
    "dill._dill._reverse_typemap['ClassType'] = type\n",
    "import flask\n",
    "from sklift.models import TwoModels\n",
    "from xgboost import XGBClassifier"
   ]
  },
  {
   "cell_type": "code",
   "execution_count": 81,
   "metadata": {},
   "outputs": [],
   "source": [
    "import warnings\n",
    "warnings.filterwarnings('ignore')"
   ]
  },
  {
   "cell_type": "code",
   "execution_count": 82,
   "metadata": {},
   "outputs": [],
   "source": [
    "processing_path = \"feature_processing.dill\"\n",
    "model_path = \"tm.dill\""
   ]
  },
  {
   "cell_type": "code",
   "execution_count": 83,
   "metadata": {},
   "outputs": [],
   "source": [
    "with open(model_path, 'rb') as f:\n",
    "    model_ = dill.load(f)  \n",
    "with open(processing_path, 'rb') as f:\n",
    "    feature_processing_ = dill.load(f) "
   ]
  },
  {
   "cell_type": "code",
   "execution_count": 85,
   "metadata": {},
   "outputs": [],
   "source": [
    "app = flask.Flask(__name__)\n",
    "feature_processing = None\n",
    "model = None"
   ]
  },
  {
   "cell_type": "code",
   "execution_count": 86,
   "metadata": {},
   "outputs": [],
   "source": [
    "@app.route(\"/\", methods=[\"GET\"])\n",
    "def general():\n",
    "    return \"Welcome to uplift\""
   ]
  },
  {
   "cell_type": "code",
   "execution_count": 87,
   "metadata": {},
   "outputs": [],
   "source": [
    "@app.route(\"/predict\", methods=[\"POST\"])\n",
    "def predict():\n",
    "    data = {\"success\": False}\n",
    "\n",
    "    if flask.request.method == \"POST\":\n",
    "        request_json = flask.request.get_json()\n",
    "        if request_json[\"first_issue_date\"]:\n",
    "            first_issue_date = pd.to_datetime(request_json['first_issue_date'])\n",
    "        if request_json[\"first_redeem_date\"]:\n",
    "            first_redeem_date = pd.to_datetime(request_json['first_redeem_date'])\n",
    "        if request_json[\"age\"]:\n",
    "            age = request_json['age']\n",
    "        if request_json[\"total_trans_count\"]:\n",
    "            total_trans_count = request_json['total_trans_count']\n",
    "        if request_json[\"last_month_trans_count\"]:\n",
    "            last_month_trans_count = request_json['last_month_trans_count']\n",
    "        if request_json[\"regular_points_received_sum_all\"]:\n",
    "            regular_points_received_sum_all = request_json['regular_points_received_sum_all']\n",
    "        if request_json[\"express_points_received_sum_all\"]:\n",
    "            express_points_received_sum_all = request_json['express_points_received_sum_all']\n",
    "        if request_json[\"regular_points_spent_sum_all\"]:\n",
    "            regular_points_spent_sum_all = request_json['regular_points_spent_sum_all']\n",
    "        if request_json[\"express_points_spent_sum_all\"]:\n",
    "            express_points_spent_sum_all = request_json['express_points_spent_sum_all']\n",
    "        if request_json[\"purchase_sum_sum_all\"]:\n",
    "            purchase_sum_sum_all = request_json['purchase_sum_sum_all']\n",
    "        if request_json[\"store_id_sum_all\"]:\n",
    "            store_id_sum_all = request_json['store_id_sum_all']\n",
    "        if request_json[\"product_quantity_sum_all\"]:\n",
    "            product_quantity_sum_all = request_json['product_quantity_sum_all']\n",
    "        if request_json[\"regular_points_received_sum_last_month\"]:\n",
    "            regular_points_received_sum_last_month = request_json['regular_points_received_sum_last_month']\n",
    "        if request_json[\"express_points_received_sum_last_month\"]:\n",
    "            express_points_received_sum_last_month = request_json['express_points_received_sum_last_month']\n",
    "        if request_json[\"regular_points_spent_sum_last_month\"]:\n",
    "            regular_points_spent_sum_last_month = request_json['regular_points_spent_sum_last_month']\n",
    "        if request_json[\"express_points_spent_sum_last_month\"]:\n",
    "            express_points_spent_sum_last_month = request_json['express_points_spent_sum_last_month']\n",
    "        if request_json[\"purchase_sum_sum_last_month\"]:\n",
    "            purchase_sum_sum_last_month = request_json['purchase_sum_sum_last_month']\n",
    "        if request_json[\"store_id_sum_last_month\"]:\n",
    "            store_id_sum_last_month = request_json['store_id_sum_last_month']\n",
    "        if request_json[\"product_quantity_sum_last_month\"]:\n",
    "            product_quantity_sum_last_month = request_json['product_quantity_sum_last_month']\n",
    "        if request_json[\"gender_mean_target\"]:\n",
    "            gender_mean_target = request_json['gender_mean_target']\n",
    "        \n",
    "       \n",
    "        df = pd.DataFrame({\"first_issue_date\": [first_issue_date],\n",
    "                                            \"first_redeem_date\": [first_redeem_date],\n",
    "                                           \"age\": [age],\n",
    "                                           \"gender_mean_target\":[gender_mean_target],\n",
    "                                           \"total_trans_count\":[total_trans_count],\n",
    "                                           \"last_month_trans_count\":[last_month_trans_count],\n",
    "                                           \"regular_points_received_sum_all\":[regular_points_received_sum_all],\n",
    "                                           \"express_points_received_sum_all\":[express_points_received_sum_all],\n",
    "                                           \"regular_points_spent_sum_all\":[regular_points_spent_sum_all],\n",
    "                                           \"express_points_spent_sum_all\":[express_points_spent_sum_all],\n",
    "                                           \"purchase_sum_sum_all\":[purchase_sum_sum_all],\n",
    "                                           \"store_id_sum_all\":[store_id_sum_all],\n",
    "                                           \"product_quantity_sum_all\":[product_quantity_sum_all],\n",
    "                                           \"regular_points_received_sum_last_month\":[regular_points_received_sum_last_month],\n",
    "                                           \"express_points_received_sum_last_month\":[express_points_received_sum_last_month],\n",
    "                                           \"regular_points_spent_sum_last_month\":[regular_points_spent_sum_last_month],\n",
    "                                           \"express_points_spent_sum_last_month\":[express_points_spent_sum_last_month],\n",
    "                                           \"purchase_sum_sum_last_month\":[purchase_sum_sum_last_month],\n",
    "                                           \"store_id_sum_last_month\":[store_id_sum_last_month],\n",
    "                                           \"product_quantity_sum_last_month\":[product_quantity_sum_last_month]})\n",
    "        \n",
    "        df = feature_processing_.transform(df)\n",
    "        print(df)\n",
    "        \n",
    "        preds = preds = model_.predict(df)\n",
    "        \n",
    "        data[\"predictions\"] = preds.tolist()\n",
    "        data[\"success\"] = True\n",
    "        print(data)\n",
    "    return flask.jsonify(data)"
   ]
  },
  {
   "cell_type": "code",
   "execution_count": null,
   "metadata": {},
   "outputs": [
    {
     "name": "stdout",
     "output_type": "stream",
     "text": [
      " * Serving Flask app \"__main__\" (lazy loading)\n",
      " * Environment: production\n",
      "   WARNING: This is a development server. Do not use it in a production deployment.\n",
      "   Use a production WSGI server instead.\n",
      " * Debug mode: off\n"
     ]
    },
    {
     "name": "stderr",
     "output_type": "stream",
     "text": [
      " * Running on http://127.0.0.1:5000/ (Press CTRL+C to quit)\n",
      "[2021-03-19 12:54:41,415] ERROR in app: Exception on /predict [POST]\n",
      "Traceback (most recent call last):\n",
      "  File \"C:\\Users\\user\\Anaconda3\\lib\\site-packages\\flask\\app.py\", line 2446, in wsgi_app\n",
      "    response = self.full_dispatch_request()\n",
      "  File \"C:\\Users\\user\\Anaconda3\\lib\\site-packages\\flask\\app.py\", line 1951, in full_dispatch_request\n",
      "    rv = self.handle_user_exception(e)\n",
      "  File \"C:\\Users\\user\\Anaconda3\\lib\\site-packages\\flask\\app.py\", line 1820, in handle_user_exception\n",
      "    reraise(exc_type, exc_value, tb)\n",
      "  File \"C:\\Users\\user\\Anaconda3\\lib\\site-packages\\flask\\_compat.py\", line 39, in reraise\n",
      "    raise value\n",
      "  File \"C:\\Users\\user\\Anaconda3\\lib\\site-packages\\flask\\app.py\", line 1949, in full_dispatch_request\n",
      "    rv = self.dispatch_request()\n",
      "  File \"C:\\Users\\user\\Anaconda3\\lib\\site-packages\\flask\\app.py\", line 1935, in dispatch_request\n",
      "    return self.view_functions[rule.endpoint](**req.view_args)\n",
      "  File \"<ipython-input-87-a156caede4b5>\", line 73, in predict\n",
      "    preds = preds = model_.predict(df)\n",
      "  File \"C:\\Users\\user\\Anaconda3\\lib\\site-packages\\sklift\\models\\models.py\", line 499, in predict\n",
      "    self.ctrl_preds_ = self.estimator_ctrl.predict(X)\n",
      "  File \"C:\\Users\\user\\Anaconda3\\lib\\site-packages\\xgboost\\sklearn.py\", line 788, in predict\n",
      "    class_probs = self.get_booster().predict(test_dmatrix,\n",
      "  File \"C:\\Users\\user\\Anaconda3\\lib\\site-packages\\xgboost\\sklearn.py\", line 193, in get_booster\n",
      "    raise XGBoostError('need to call fit or load_model beforehand')\n",
      "xgboost.core.XGBoostError: need to call fit or load_model beforehand\n",
      "127.0.0.1 - - [19/Mar/2021 12:54:41] \"\u001b[1m\u001b[35mPOST /predict HTTP/1.1\u001b[0m\" 500 -\n"
     ]
    },
    {
     "name": "stdout",
     "output_type": "stream",
     "text": [
      "[[ 4.90000000e+01  1.50074818e+18  7.00000000e+00  5.00000000e+00\n",
      "   1.80000000e+01  1.50563905e+18  9.00000000e+00  6.00000000e+00\n",
      "   9.00000000e+00  7.00000000e+00  8.90000000e+01  1.40000000e+01\n",
      "   6.40568000e-01  1.00000000e+00 -8.70000000e+01  1.00000000e+00\n",
      "   9.59725000e+03  4.60000000e+01  6.00000000e+00  1.00000000e+00\n",
      "  -1.80000000e+01  1.00000000e+00  2.53161000e+03  1.60000000e+01\n",
      "   3.00000000e+00  2.50000000e+01]]\n"
     ]
    }
   ],
   "source": [
    "app.run()"
   ]
  },
  {
   "cell_type": "code",
   "execution_count": 39,
   "metadata": {},
   "outputs": [],
   "source": [
    "ff = feature_processing_.transform(pd.DataFrame({'first_issue_date': pd.to_datetime(['2017-08-05 15:40:48']), 'first_redeem_date': pd.to_datetime(['2018-01-04 19:30:07']), 'age': 45, 'gender_mean_target': 1, 'total_trans_count': 4, 'last_month_trans_count': 2, 'regular_points_received_sum_all': 25.0, 'express_points_received_sum_all': 0.0, 'regular_points_spent_sum_all': 0.0, 'express_points_spent_sum_all': 0.0, 'purchase_sum_sum_all': 2803.0, 'store_id_sum_all': 4.0, 'product_quantity_sum_all': 3, 'regular_points_received_sum_last_month': 10.0, 'express_points_received_sum_last_month': 0.0, 'regular_points_spent_sum_last_month': 0.0, 'express_points_spent_sum_last_month': 0.0, 'purchase_sum_sum_last_month': 1222.0, 'store_id_sum_last_month': 2.0, 'product_quantity_sum_last_month': 1}))"
   ]
  },
  {
   "cell_type": "code",
   "execution_count": 40,
   "metadata": {},
   "outputs": [
    {
     "ename": "XGBoostError",
     "evalue": "need to call fit or load_model beforehand",
     "output_type": "error",
     "traceback": [
      "\u001b[1;31m---------------------------------------------------------------------------\u001b[0m",
      "\u001b[1;31mXGBoostError\u001b[0m                              Traceback (most recent call last)",
      "\u001b[1;32m<ipython-input-40-e0ba32cadae3>\u001b[0m in \u001b[0;36m<module>\u001b[1;34m\u001b[0m\n\u001b[1;32m----> 1\u001b[1;33m \u001b[0mmodel_\u001b[0m\u001b[1;33m.\u001b[0m\u001b[0mpredict\u001b[0m\u001b[1;33m(\u001b[0m\u001b[0mff\u001b[0m\u001b[1;33m)\u001b[0m\u001b[1;33m\u001b[0m\u001b[1;33m\u001b[0m\u001b[0m\n\u001b[0m",
      "\u001b[1;32m~\\Anaconda3\\lib\\site-packages\\sklift\\models\\models.py\u001b[0m in \u001b[0;36mpredict\u001b[1;34m(self, X)\u001b[0m\n\u001b[0;32m    497\u001b[0m                 \u001b[0mself\u001b[0m\u001b[1;33m.\u001b[0m\u001b[0mtrmnt_preds_\u001b[0m \u001b[1;33m=\u001b[0m \u001b[0mself\u001b[0m\u001b[1;33m.\u001b[0m\u001b[0mestimator_trmnt\u001b[0m\u001b[1;33m.\u001b[0m\u001b[0mpredict_proba\u001b[0m\u001b[1;33m(\u001b[0m\u001b[0mX\u001b[0m\u001b[1;33m)\u001b[0m\u001b[1;33m[\u001b[0m\u001b[1;33m:\u001b[0m\u001b[1;33m,\u001b[0m \u001b[1;36m1\u001b[0m\u001b[1;33m]\u001b[0m\u001b[1;33m\u001b[0m\u001b[1;33m\u001b[0m\u001b[0m\n\u001b[0;32m    498\u001b[0m             \u001b[1;32melse\u001b[0m\u001b[1;33m:\u001b[0m\u001b[1;33m\u001b[0m\u001b[1;33m\u001b[0m\u001b[0m\n\u001b[1;32m--> 499\u001b[1;33m                 \u001b[0mself\u001b[0m\u001b[1;33m.\u001b[0m\u001b[0mctrl_preds_\u001b[0m \u001b[1;33m=\u001b[0m \u001b[0mself\u001b[0m\u001b[1;33m.\u001b[0m\u001b[0mestimator_ctrl\u001b[0m\u001b[1;33m.\u001b[0m\u001b[0mpredict\u001b[0m\u001b[1;33m(\u001b[0m\u001b[0mX\u001b[0m\u001b[1;33m)\u001b[0m\u001b[1;33m\u001b[0m\u001b[1;33m\u001b[0m\u001b[0m\n\u001b[0m\u001b[0;32m    500\u001b[0m                 \u001b[0mself\u001b[0m\u001b[1;33m.\u001b[0m\u001b[0mtrmnt_preds_\u001b[0m \u001b[1;33m=\u001b[0m \u001b[0mself\u001b[0m\u001b[1;33m.\u001b[0m\u001b[0mestimator_trmnt\u001b[0m\u001b[1;33m.\u001b[0m\u001b[0mpredict\u001b[0m\u001b[1;33m(\u001b[0m\u001b[0mX\u001b[0m\u001b[1;33m)\u001b[0m\u001b[1;33m\u001b[0m\u001b[1;33m\u001b[0m\u001b[0m\n\u001b[0;32m    501\u001b[0m \u001b[1;33m\u001b[0m\u001b[0m\n",
      "\u001b[1;32m~\\Anaconda3\\lib\\site-packages\\xgboost\\sklearn.py\u001b[0m in \u001b[0;36mpredict\u001b[1;34m(self, data, output_margin, ntree_limit, validate_features)\u001b[0m\n\u001b[0;32m    786\u001b[0m         \u001b[1;32mif\u001b[0m \u001b[0mntree_limit\u001b[0m \u001b[1;32mis\u001b[0m \u001b[1;32mNone\u001b[0m\u001b[1;33m:\u001b[0m\u001b[1;33m\u001b[0m\u001b[1;33m\u001b[0m\u001b[0m\n\u001b[0;32m    787\u001b[0m             \u001b[0mntree_limit\u001b[0m \u001b[1;33m=\u001b[0m \u001b[0mgetattr\u001b[0m\u001b[1;33m(\u001b[0m\u001b[0mself\u001b[0m\u001b[1;33m,\u001b[0m \u001b[1;34m\"best_ntree_limit\"\u001b[0m\u001b[1;33m,\u001b[0m \u001b[1;36m0\u001b[0m\u001b[1;33m)\u001b[0m\u001b[1;33m\u001b[0m\u001b[1;33m\u001b[0m\u001b[0m\n\u001b[1;32m--> 788\u001b[1;33m         class_probs = self.get_booster().predict(test_dmatrix,\n\u001b[0m\u001b[0;32m    789\u001b[0m                                                  \u001b[0moutput_margin\u001b[0m\u001b[1;33m=\u001b[0m\u001b[0moutput_margin\u001b[0m\u001b[1;33m,\u001b[0m\u001b[1;33m\u001b[0m\u001b[1;33m\u001b[0m\u001b[0m\n\u001b[0;32m    790\u001b[0m                                                  \u001b[0mntree_limit\u001b[0m\u001b[1;33m=\u001b[0m\u001b[0mntree_limit\u001b[0m\u001b[1;33m,\u001b[0m\u001b[1;33m\u001b[0m\u001b[1;33m\u001b[0m\u001b[0m\n",
      "\u001b[1;32m~\\Anaconda3\\lib\\site-packages\\xgboost\\sklearn.py\u001b[0m in \u001b[0;36mget_booster\u001b[1;34m(self)\u001b[0m\n\u001b[0;32m    191\u001b[0m         \"\"\"\n\u001b[0;32m    192\u001b[0m         \u001b[1;32mif\u001b[0m \u001b[0mself\u001b[0m\u001b[1;33m.\u001b[0m\u001b[0m_Booster\u001b[0m \u001b[1;32mis\u001b[0m \u001b[1;32mNone\u001b[0m\u001b[1;33m:\u001b[0m\u001b[1;33m\u001b[0m\u001b[1;33m\u001b[0m\u001b[0m\n\u001b[1;32m--> 193\u001b[1;33m             \u001b[1;32mraise\u001b[0m \u001b[0mXGBoostError\u001b[0m\u001b[1;33m(\u001b[0m\u001b[1;34m'need to call fit or load_model beforehand'\u001b[0m\u001b[1;33m)\u001b[0m\u001b[1;33m\u001b[0m\u001b[1;33m\u001b[0m\u001b[0m\n\u001b[0m\u001b[0;32m    194\u001b[0m         \u001b[1;32mreturn\u001b[0m \u001b[0mself\u001b[0m\u001b[1;33m.\u001b[0m\u001b[0m_Booster\u001b[0m\u001b[1;33m\u001b[0m\u001b[1;33m\u001b[0m\u001b[0m\n\u001b[0;32m    195\u001b[0m \u001b[1;33m\u001b[0m\u001b[0m\n",
      "\u001b[1;31mXGBoostError\u001b[0m: need to call fit or load_model beforehand"
     ]
    }
   ],
   "source": [
    "model_.predict(ff)"
   ]
  },
  {
   "cell_type": "code",
   "execution_count": null,
   "metadata": {},
   "outputs": [],
   "source": []
  }
 ],
 "metadata": {
  "kernelspec": {
   "display_name": "Python 3",
   "language": "python",
   "name": "python3"
  },
  "language_info": {
   "codemirror_mode": {
    "name": "ipython",
    "version": 3
   },
   "file_extension": ".py",
   "mimetype": "text/x-python",
   "name": "python",
   "nbconvert_exporter": "python",
   "pygments_lexer": "ipython3",
   "version": "3.7.4"
  }
 },
 "nbformat": 4,
 "nbformat_minor": 2
}
